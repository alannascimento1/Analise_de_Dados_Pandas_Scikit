{
  "nbformat": 4,
  "nbformat_minor": 0,
  "metadata": {
    "colab": {
      "name": "niveis_de_obesidade_com_outros_algoritmos.ipynb",
      "provenance": [],
      "collapsed_sections": []
    },
    "kernelspec": {
      "name": "python3",
      "display_name": "Python 3"
    },
    "language_info": {
      "name": "python"
    }
  },
  "cells": [
    {
      "cell_type": "markdown",
      "metadata": {
        "id": "HBn6iMChiA3l"
      },
      "source": [
        "## **Resumo**\n",
        "### **Descrição do DataSet**\n",
        "\n",
        "*    **Nome:** *Estimation of obesity levels based on eating habits and physical condition Data Set* \n",
        "(Estimativa dos níveis de obesidade com base em hábitos alimentares e físicos, em português)\n",
        "*    **Tamanho:** (2111, 17)\n",
        "*   **Features:** \n",
        "    *   **Features Numéricas:** 8\n",
        "    *   **Features Categóricas:** 8 (Fuma, Meio de Transporte, Consumo de Álcool, etc)\n",
        "\n",
        "### **Algoritmos Utilizados**\n",
        "*   **SVC**\n",
        "*   **Random Forest**\n",
        "*   **KNeighborsClassifier**\n",
        "*   **DecisionTreeClassifier**\n",
        "*   **GradientBoostingClassifier**\n",
        "*   **Perceptron**\n",
        "*   **MLPClassifier** \n",
        "\n",
        "### **Procedimentos**\n",
        "*   **Aplicação dos algoritmos sem uso do GridSearch**\n",
        "*   **Aplicação dos algoritmos usando o GridSearch**\n",
        "*   **Usando a biblioteca PipelineHelper**\n"
      ]
    },
    {
      "cell_type": "markdown",
      "metadata": {
        "id": "q7Gh4r97icws"
      },
      "source": [
        "**Realizando Importações**"
      ]
    },
    {
      "cell_type": "code",
      "metadata": {
        "id": "8NIGzRzohjIT"
      },
      "source": [
        "import pandas as pd\n",
        "import numpy as np\n",
        "import matplotlib.pyplot as plt\n",
        "from sklearn.model_selection import train_test_split\n",
        "from sklearn.neighbors import KNeighborsClassifier\n",
        "from sklearn import preprocessing\n",
        "from sklearn import metrics\n",
        "from sklearn import linear_model\n",
        "from sklearn.ensemble import RandomForestClassifier\n",
        "from sklearn.ensemble import GradientBoostingClassifier\n",
        "from sklearn.model_selection import GridSearchCV\n",
        "from sklearn.pipeline import Pipeline\n",
        "from sklearn.tree import DecisionTreeClassifier\n",
        "from sklearn.ensemble import GradientBoostingClassifier\n",
        "from sklearn.linear_model import Perceptron\n",
        "from sklearn.svm import SVC\n",
        "from sklearn.pipeline import Pipeline\n",
        "from sklearn.neural_network import MLPClassifier\n",
        "import warnings\n",
        "\n",
        "warnings.filterwarnings('ignore')"
      ],
      "execution_count": null,
      "outputs": []
    },
    {
      "cell_type": "markdown",
      "metadata": {
        "id": "U6FK_UApwcys"
      },
      "source": [
        "# Analisando o *Dataset*"
      ]
    },
    {
      "cell_type": "markdown",
      "metadata": {
        "id": "XQY9NStNiimp"
      },
      "source": [
        "**Carregando o DataSet**"
      ]
    },
    {
      "cell_type": "code",
      "metadata": {
        "id": "6uZIguTKiuGK",
        "colab": {
          "base_uri": "https://localhost:8080/"
        },
        "outputId": "c3f04918-8030-4254-f100-fc992e2f051e"
      },
      "source": [
        "df = pd.read_csv('/content/drive/MyDrive/AprendizadoDeMaquina/datasets/obesidade.csv')\n",
        "\n",
        "print(df.shape)"
      ],
      "execution_count": null,
      "outputs": [
        {
          "output_type": "stream",
          "text": [
            "(2111, 17)\n"
          ],
          "name": "stdout"
        }
      ]
    },
    {
      "cell_type": "code",
      "metadata": {
        "colab": {
          "base_uri": "https://localhost:8080/"
        },
        "id": "ydvM1irUCTn0",
        "outputId": "73142216-45a6-47bc-d1a8-2db1662e6803"
      },
      "source": [
        "df"
      ],
      "execution_count": null,
      "outputs": [
        {
          "output_type": "execute_result",
          "data": {
            "text/html": [
              "<div>\n",
              "<style scoped>\n",
              "    .dataframe tbody tr th:only-of-type {\n",
              "        vertical-align: middle;\n",
              "    }\n",
              "\n",
              "    .dataframe tbody tr th {\n",
              "        vertical-align: top;\n",
              "    }\n",
              "\n",
              "    .dataframe thead th {\n",
              "        text-align: right;\n",
              "    }\n",
              "</style>\n",
              "<table border=\"1\" class=\"dataframe\">\n",
              "  <thead>\n",
              "    <tr style=\"text-align: right;\">\n",
              "      <th></th>\n",
              "      <th>Gender</th>\n",
              "      <th>Age</th>\n",
              "      <th>Height</th>\n",
              "      <th>Weight</th>\n",
              "      <th>family_history_with_overweight</th>\n",
              "      <th>FAVC</th>\n",
              "      <th>FCVC</th>\n",
              "      <th>NCP</th>\n",
              "      <th>CAEC</th>\n",
              "      <th>SMOKE</th>\n",
              "      <th>CH2O</th>\n",
              "      <th>SCC</th>\n",
              "      <th>FAF</th>\n",
              "      <th>TUE</th>\n",
              "      <th>CALC</th>\n",
              "      <th>MTRANS</th>\n",
              "      <th>NObeyesdad</th>\n",
              "    </tr>\n",
              "  </thead>\n",
              "  <tbody>\n",
              "    <tr>\n",
              "      <th>0</th>\n",
              "      <td>Female</td>\n",
              "      <td>21.000000</td>\n",
              "      <td>1.620000</td>\n",
              "      <td>64.000000</td>\n",
              "      <td>yes</td>\n",
              "      <td>no</td>\n",
              "      <td>2.0</td>\n",
              "      <td>3.0</td>\n",
              "      <td>Sometimes</td>\n",
              "      <td>no</td>\n",
              "      <td>2.000000</td>\n",
              "      <td>no</td>\n",
              "      <td>0.000000</td>\n",
              "      <td>1.000000</td>\n",
              "      <td>no</td>\n",
              "      <td>Public_Transportation</td>\n",
              "      <td>Normal_Weight</td>\n",
              "    </tr>\n",
              "    <tr>\n",
              "      <th>1</th>\n",
              "      <td>Female</td>\n",
              "      <td>21.000000</td>\n",
              "      <td>1.520000</td>\n",
              "      <td>56.000000</td>\n",
              "      <td>yes</td>\n",
              "      <td>no</td>\n",
              "      <td>3.0</td>\n",
              "      <td>3.0</td>\n",
              "      <td>Sometimes</td>\n",
              "      <td>yes</td>\n",
              "      <td>3.000000</td>\n",
              "      <td>yes</td>\n",
              "      <td>3.000000</td>\n",
              "      <td>0.000000</td>\n",
              "      <td>Sometimes</td>\n",
              "      <td>Public_Transportation</td>\n",
              "      <td>Normal_Weight</td>\n",
              "    </tr>\n",
              "    <tr>\n",
              "      <th>2</th>\n",
              "      <td>Male</td>\n",
              "      <td>23.000000</td>\n",
              "      <td>1.800000</td>\n",
              "      <td>77.000000</td>\n",
              "      <td>yes</td>\n",
              "      <td>no</td>\n",
              "      <td>2.0</td>\n",
              "      <td>3.0</td>\n",
              "      <td>Sometimes</td>\n",
              "      <td>no</td>\n",
              "      <td>2.000000</td>\n",
              "      <td>no</td>\n",
              "      <td>2.000000</td>\n",
              "      <td>1.000000</td>\n",
              "      <td>Frequently</td>\n",
              "      <td>Public_Transportation</td>\n",
              "      <td>Normal_Weight</td>\n",
              "    </tr>\n",
              "    <tr>\n",
              "      <th>3</th>\n",
              "      <td>Male</td>\n",
              "      <td>27.000000</td>\n",
              "      <td>1.800000</td>\n",
              "      <td>87.000000</td>\n",
              "      <td>no</td>\n",
              "      <td>no</td>\n",
              "      <td>3.0</td>\n",
              "      <td>3.0</td>\n",
              "      <td>Sometimes</td>\n",
              "      <td>no</td>\n",
              "      <td>2.000000</td>\n",
              "      <td>no</td>\n",
              "      <td>2.000000</td>\n",
              "      <td>0.000000</td>\n",
              "      <td>Frequently</td>\n",
              "      <td>Walking</td>\n",
              "      <td>Overweight_Level_I</td>\n",
              "    </tr>\n",
              "    <tr>\n",
              "      <th>4</th>\n",
              "      <td>Male</td>\n",
              "      <td>22.000000</td>\n",
              "      <td>1.780000</td>\n",
              "      <td>89.800000</td>\n",
              "      <td>no</td>\n",
              "      <td>no</td>\n",
              "      <td>2.0</td>\n",
              "      <td>1.0</td>\n",
              "      <td>Sometimes</td>\n",
              "      <td>no</td>\n",
              "      <td>2.000000</td>\n",
              "      <td>no</td>\n",
              "      <td>0.000000</td>\n",
              "      <td>0.000000</td>\n",
              "      <td>Sometimes</td>\n",
              "      <td>Public_Transportation</td>\n",
              "      <td>Overweight_Level_II</td>\n",
              "    </tr>\n",
              "    <tr>\n",
              "      <th>...</th>\n",
              "      <td>...</td>\n",
              "      <td>...</td>\n",
              "      <td>...</td>\n",
              "      <td>...</td>\n",
              "      <td>...</td>\n",
              "      <td>...</td>\n",
              "      <td>...</td>\n",
              "      <td>...</td>\n",
              "      <td>...</td>\n",
              "      <td>...</td>\n",
              "      <td>...</td>\n",
              "      <td>...</td>\n",
              "      <td>...</td>\n",
              "      <td>...</td>\n",
              "      <td>...</td>\n",
              "      <td>...</td>\n",
              "      <td>...</td>\n",
              "    </tr>\n",
              "    <tr>\n",
              "      <th>2106</th>\n",
              "      <td>Female</td>\n",
              "      <td>20.976842</td>\n",
              "      <td>1.710730</td>\n",
              "      <td>131.408528</td>\n",
              "      <td>yes</td>\n",
              "      <td>yes</td>\n",
              "      <td>3.0</td>\n",
              "      <td>3.0</td>\n",
              "      <td>Sometimes</td>\n",
              "      <td>no</td>\n",
              "      <td>1.728139</td>\n",
              "      <td>no</td>\n",
              "      <td>1.676269</td>\n",
              "      <td>0.906247</td>\n",
              "      <td>Sometimes</td>\n",
              "      <td>Public_Transportation</td>\n",
              "      <td>Obesity_Type_III</td>\n",
              "    </tr>\n",
              "    <tr>\n",
              "      <th>2107</th>\n",
              "      <td>Female</td>\n",
              "      <td>21.982942</td>\n",
              "      <td>1.748584</td>\n",
              "      <td>133.742943</td>\n",
              "      <td>yes</td>\n",
              "      <td>yes</td>\n",
              "      <td>3.0</td>\n",
              "      <td>3.0</td>\n",
              "      <td>Sometimes</td>\n",
              "      <td>no</td>\n",
              "      <td>2.005130</td>\n",
              "      <td>no</td>\n",
              "      <td>1.341390</td>\n",
              "      <td>0.599270</td>\n",
              "      <td>Sometimes</td>\n",
              "      <td>Public_Transportation</td>\n",
              "      <td>Obesity_Type_III</td>\n",
              "    </tr>\n",
              "    <tr>\n",
              "      <th>2108</th>\n",
              "      <td>Female</td>\n",
              "      <td>22.524036</td>\n",
              "      <td>1.752206</td>\n",
              "      <td>133.689352</td>\n",
              "      <td>yes</td>\n",
              "      <td>yes</td>\n",
              "      <td>3.0</td>\n",
              "      <td>3.0</td>\n",
              "      <td>Sometimes</td>\n",
              "      <td>no</td>\n",
              "      <td>2.054193</td>\n",
              "      <td>no</td>\n",
              "      <td>1.414209</td>\n",
              "      <td>0.646288</td>\n",
              "      <td>Sometimes</td>\n",
              "      <td>Public_Transportation</td>\n",
              "      <td>Obesity_Type_III</td>\n",
              "    </tr>\n",
              "    <tr>\n",
              "      <th>2109</th>\n",
              "      <td>Female</td>\n",
              "      <td>24.361936</td>\n",
              "      <td>1.739450</td>\n",
              "      <td>133.346641</td>\n",
              "      <td>yes</td>\n",
              "      <td>yes</td>\n",
              "      <td>3.0</td>\n",
              "      <td>3.0</td>\n",
              "      <td>Sometimes</td>\n",
              "      <td>no</td>\n",
              "      <td>2.852339</td>\n",
              "      <td>no</td>\n",
              "      <td>1.139107</td>\n",
              "      <td>0.586035</td>\n",
              "      <td>Sometimes</td>\n",
              "      <td>Public_Transportation</td>\n",
              "      <td>Obesity_Type_III</td>\n",
              "    </tr>\n",
              "    <tr>\n",
              "      <th>2110</th>\n",
              "      <td>Female</td>\n",
              "      <td>23.664709</td>\n",
              "      <td>1.738836</td>\n",
              "      <td>133.472641</td>\n",
              "      <td>yes</td>\n",
              "      <td>yes</td>\n",
              "      <td>3.0</td>\n",
              "      <td>3.0</td>\n",
              "      <td>Sometimes</td>\n",
              "      <td>no</td>\n",
              "      <td>2.863513</td>\n",
              "      <td>no</td>\n",
              "      <td>1.026452</td>\n",
              "      <td>0.714137</td>\n",
              "      <td>Sometimes</td>\n",
              "      <td>Public_Transportation</td>\n",
              "      <td>Obesity_Type_III</td>\n",
              "    </tr>\n",
              "  </tbody>\n",
              "</table>\n",
              "<p>2111 rows × 17 columns</p>\n",
              "</div>"
            ],
            "text/plain": [
              "      Gender        Age  ...                 MTRANS           NObeyesdad\n",
              "0     Female  21.000000  ...  Public_Transportation        Normal_Weight\n",
              "1     Female  21.000000  ...  Public_Transportation        Normal_Weight\n",
              "2       Male  23.000000  ...  Public_Transportation        Normal_Weight\n",
              "3       Male  27.000000  ...                Walking   Overweight_Level_I\n",
              "4       Male  22.000000  ...  Public_Transportation  Overweight_Level_II\n",
              "...      ...        ...  ...                    ...                  ...\n",
              "2106  Female  20.976842  ...  Public_Transportation     Obesity_Type_III\n",
              "2107  Female  21.982942  ...  Public_Transportation     Obesity_Type_III\n",
              "2108  Female  22.524036  ...  Public_Transportation     Obesity_Type_III\n",
              "2109  Female  24.361936  ...  Public_Transportation     Obesity_Type_III\n",
              "2110  Female  23.664709  ...  Public_Transportation     Obesity_Type_III\n",
              "\n",
              "[2111 rows x 17 columns]"
            ]
          },
          "metadata": {},
          "execution_count": 6
        }
      ]
    },
    {
      "cell_type": "markdown",
      "metadata": {
        "id": "fLa3INqaixu3"
      },
      "source": [
        "**Features Numéricas**"
      ]
    },
    {
      "cell_type": "code",
      "metadata": {
        "id": "gU880MFPi1bt",
        "colab": {
          "base_uri": "https://localhost:8080/"
        },
        "outputId": "34799c75-3acf-4c5b-c428-96512b9c259e"
      },
      "source": [
        "df.describe()"
      ],
      "execution_count": null,
      "outputs": [
        {
          "output_type": "execute_result",
          "data": {
            "text/html": [
              "<div>\n",
              "<style scoped>\n",
              "    .dataframe tbody tr th:only-of-type {\n",
              "        vertical-align: middle;\n",
              "    }\n",
              "\n",
              "    .dataframe tbody tr th {\n",
              "        vertical-align: top;\n",
              "    }\n",
              "\n",
              "    .dataframe thead th {\n",
              "        text-align: right;\n",
              "    }\n",
              "</style>\n",
              "<table border=\"1\" class=\"dataframe\">\n",
              "  <thead>\n",
              "    <tr style=\"text-align: right;\">\n",
              "      <th></th>\n",
              "      <th>Age</th>\n",
              "      <th>Height</th>\n",
              "      <th>Weight</th>\n",
              "      <th>FCVC</th>\n",
              "      <th>NCP</th>\n",
              "      <th>CH2O</th>\n",
              "      <th>FAF</th>\n",
              "      <th>TUE</th>\n",
              "    </tr>\n",
              "  </thead>\n",
              "  <tbody>\n",
              "    <tr>\n",
              "      <th>count</th>\n",
              "      <td>2111.000000</td>\n",
              "      <td>2111.000000</td>\n",
              "      <td>2111.000000</td>\n",
              "      <td>2111.000000</td>\n",
              "      <td>2111.000000</td>\n",
              "      <td>2111.000000</td>\n",
              "      <td>2111.000000</td>\n",
              "      <td>2111.000000</td>\n",
              "    </tr>\n",
              "    <tr>\n",
              "      <th>mean</th>\n",
              "      <td>24.312600</td>\n",
              "      <td>1.701677</td>\n",
              "      <td>86.586058</td>\n",
              "      <td>2.419043</td>\n",
              "      <td>2.685628</td>\n",
              "      <td>2.008011</td>\n",
              "      <td>1.010298</td>\n",
              "      <td>0.657866</td>\n",
              "    </tr>\n",
              "    <tr>\n",
              "      <th>std</th>\n",
              "      <td>6.345968</td>\n",
              "      <td>0.093305</td>\n",
              "      <td>26.191172</td>\n",
              "      <td>0.533927</td>\n",
              "      <td>0.778039</td>\n",
              "      <td>0.612953</td>\n",
              "      <td>0.850592</td>\n",
              "      <td>0.608927</td>\n",
              "    </tr>\n",
              "    <tr>\n",
              "      <th>min</th>\n",
              "      <td>14.000000</td>\n",
              "      <td>1.450000</td>\n",
              "      <td>39.000000</td>\n",
              "      <td>1.000000</td>\n",
              "      <td>1.000000</td>\n",
              "      <td>1.000000</td>\n",
              "      <td>0.000000</td>\n",
              "      <td>0.000000</td>\n",
              "    </tr>\n",
              "    <tr>\n",
              "      <th>25%</th>\n",
              "      <td>19.947192</td>\n",
              "      <td>1.630000</td>\n",
              "      <td>65.473343</td>\n",
              "      <td>2.000000</td>\n",
              "      <td>2.658738</td>\n",
              "      <td>1.584812</td>\n",
              "      <td>0.124505</td>\n",
              "      <td>0.000000</td>\n",
              "    </tr>\n",
              "    <tr>\n",
              "      <th>50%</th>\n",
              "      <td>22.777890</td>\n",
              "      <td>1.700499</td>\n",
              "      <td>83.000000</td>\n",
              "      <td>2.385502</td>\n",
              "      <td>3.000000</td>\n",
              "      <td>2.000000</td>\n",
              "      <td>1.000000</td>\n",
              "      <td>0.625350</td>\n",
              "    </tr>\n",
              "    <tr>\n",
              "      <th>75%</th>\n",
              "      <td>26.000000</td>\n",
              "      <td>1.768464</td>\n",
              "      <td>107.430682</td>\n",
              "      <td>3.000000</td>\n",
              "      <td>3.000000</td>\n",
              "      <td>2.477420</td>\n",
              "      <td>1.666678</td>\n",
              "      <td>1.000000</td>\n",
              "    </tr>\n",
              "    <tr>\n",
              "      <th>max</th>\n",
              "      <td>61.000000</td>\n",
              "      <td>1.980000</td>\n",
              "      <td>173.000000</td>\n",
              "      <td>3.000000</td>\n",
              "      <td>4.000000</td>\n",
              "      <td>3.000000</td>\n",
              "      <td>3.000000</td>\n",
              "      <td>2.000000</td>\n",
              "    </tr>\n",
              "  </tbody>\n",
              "</table>\n",
              "</div>"
            ],
            "text/plain": [
              "               Age       Height  ...          FAF          TUE\n",
              "count  2111.000000  2111.000000  ...  2111.000000  2111.000000\n",
              "mean     24.312600     1.701677  ...     1.010298     0.657866\n",
              "std       6.345968     0.093305  ...     0.850592     0.608927\n",
              "min      14.000000     1.450000  ...     0.000000     0.000000\n",
              "25%      19.947192     1.630000  ...     0.124505     0.000000\n",
              "50%      22.777890     1.700499  ...     1.000000     0.625350\n",
              "75%      26.000000     1.768464  ...     1.666678     1.000000\n",
              "max      61.000000     1.980000  ...     3.000000     2.000000\n",
              "\n",
              "[8 rows x 8 columns]"
            ]
          },
          "metadata": {},
          "execution_count": 7
        }
      ]
    },
    {
      "cell_type": "markdown",
      "metadata": {
        "id": "Gl0cxbXBi4cl"
      },
      "source": [
        "**Features Categóricas**"
      ]
    },
    {
      "cell_type": "code",
      "metadata": {
        "id": "03PADeeti9GB",
        "colab": {
          "base_uri": "https://localhost:8080/"
        },
        "outputId": "cad2c97d-04da-4cac-a5c2-a6784a440c14"
      },
      "source": [
        "df.describe(include=['object'])"
      ],
      "execution_count": null,
      "outputs": [
        {
          "output_type": "execute_result",
          "data": {
            "text/html": [
              "<div>\n",
              "<style scoped>\n",
              "    .dataframe tbody tr th:only-of-type {\n",
              "        vertical-align: middle;\n",
              "    }\n",
              "\n",
              "    .dataframe tbody tr th {\n",
              "        vertical-align: top;\n",
              "    }\n",
              "\n",
              "    .dataframe thead th {\n",
              "        text-align: right;\n",
              "    }\n",
              "</style>\n",
              "<table border=\"1\" class=\"dataframe\">\n",
              "  <thead>\n",
              "    <tr style=\"text-align: right;\">\n",
              "      <th></th>\n",
              "      <th>Gender</th>\n",
              "      <th>family_history_with_overweight</th>\n",
              "      <th>FAVC</th>\n",
              "      <th>CAEC</th>\n",
              "      <th>SMOKE</th>\n",
              "      <th>SCC</th>\n",
              "      <th>CALC</th>\n",
              "      <th>MTRANS</th>\n",
              "      <th>NObeyesdad</th>\n",
              "    </tr>\n",
              "  </thead>\n",
              "  <tbody>\n",
              "    <tr>\n",
              "      <th>count</th>\n",
              "      <td>2111</td>\n",
              "      <td>2111</td>\n",
              "      <td>2111</td>\n",
              "      <td>2111</td>\n",
              "      <td>2111</td>\n",
              "      <td>2111</td>\n",
              "      <td>2111</td>\n",
              "      <td>2111</td>\n",
              "      <td>2111</td>\n",
              "    </tr>\n",
              "    <tr>\n",
              "      <th>unique</th>\n",
              "      <td>2</td>\n",
              "      <td>2</td>\n",
              "      <td>2</td>\n",
              "      <td>4</td>\n",
              "      <td>2</td>\n",
              "      <td>2</td>\n",
              "      <td>4</td>\n",
              "      <td>5</td>\n",
              "      <td>7</td>\n",
              "    </tr>\n",
              "    <tr>\n",
              "      <th>top</th>\n",
              "      <td>Male</td>\n",
              "      <td>yes</td>\n",
              "      <td>yes</td>\n",
              "      <td>Sometimes</td>\n",
              "      <td>no</td>\n",
              "      <td>no</td>\n",
              "      <td>Sometimes</td>\n",
              "      <td>Public_Transportation</td>\n",
              "      <td>Obesity_Type_I</td>\n",
              "    </tr>\n",
              "    <tr>\n",
              "      <th>freq</th>\n",
              "      <td>1068</td>\n",
              "      <td>1726</td>\n",
              "      <td>1866</td>\n",
              "      <td>1765</td>\n",
              "      <td>2067</td>\n",
              "      <td>2015</td>\n",
              "      <td>1401</td>\n",
              "      <td>1580</td>\n",
              "      <td>351</td>\n",
              "    </tr>\n",
              "  </tbody>\n",
              "</table>\n",
              "</div>"
            ],
            "text/plain": [
              "       Gender  ...      NObeyesdad\n",
              "count    2111  ...            2111\n",
              "unique      2  ...               7\n",
              "top      Male  ...  Obesity_Type_I\n",
              "freq     1068  ...             351\n",
              "\n",
              "[4 rows x 9 columns]"
            ]
          },
          "metadata": {},
          "execution_count": 8
        }
      ]
    },
    {
      "cell_type": "markdown",
      "metadata": {
        "id": "_9tFPy86i9uK"
      },
      "source": [
        "**Verificando dados nulos**"
      ]
    },
    {
      "cell_type": "code",
      "metadata": {
        "id": "8nrVMDUejEqm",
        "colab": {
          "base_uri": "https://localhost:8080/"
        },
        "outputId": "a0a7c0be-f535-4aac-c7ee-b20f8a47fcbc"
      },
      "source": [
        "np.sum(df.isnull()==True)"
      ],
      "execution_count": null,
      "outputs": [
        {
          "output_type": "execute_result",
          "data": {
            "text/plain": [
              "Gender                            0\n",
              "Age                               0\n",
              "Height                            0\n",
              "Weight                            0\n",
              "family_history_with_overweight    0\n",
              "FAVC                              0\n",
              "FCVC                              0\n",
              "NCP                               0\n",
              "CAEC                              0\n",
              "SMOKE                             0\n",
              "CH2O                              0\n",
              "SCC                               0\n",
              "FAF                               0\n",
              "TUE                               0\n",
              "CALC                              0\n",
              "MTRANS                            0\n",
              "NObeyesdad                        0\n",
              "dtype: int64"
            ]
          },
          "metadata": {},
          "execution_count": 9
        }
      ]
    },
    {
      "cell_type": "markdown",
      "metadata": {
        "id": "H9LOOUr0jHy4"
      },
      "source": [
        "#### **Quantidade de cada classe**"
      ]
    },
    {
      "cell_type": "code",
      "metadata": {
        "id": "rNxOki8CjOu8",
        "colab": {
          "base_uri": "https://localhost:8080/"
        },
        "outputId": "fe20bd35-e753-4b23-8413-89d86409ef76"
      },
      "source": [
        "df['NObeyesdad'].value_counts()"
      ],
      "execution_count": null,
      "outputs": [
        {
          "output_type": "execute_result",
          "data": {
            "text/plain": [
              "Obesity_Type_I         351\n",
              "Obesity_Type_III       324\n",
              "Obesity_Type_II        297\n",
              "Overweight_Level_I     290\n",
              "Overweight_Level_II    290\n",
              "Normal_Weight          287\n",
              "Insufficient_Weight    272\n",
              "Name: NObeyesdad, dtype: int64"
            ]
          },
          "metadata": {},
          "execution_count": 10
        }
      ]
    },
    {
      "cell_type": "code",
      "metadata": {
        "id": "kup9GTVajZr4",
        "colab": {
          "base_uri": "https://localhost:8080/"
        },
        "outputId": "fbb41406-b61c-4aab-c7b9-e87a5f920a8f"
      },
      "source": [
        "fig = plt.figure()\n",
        "ax = fig.add_axes([1,0,1,1])\n",
        "langs = df['NObeyesdad'].value_counts().index.tolist()\n",
        "values = list(df['NObeyesdad'].value_counts().to_numpy())\n",
        "plt.rcParams[\"figure.figsize\"] = (20,3)\n",
        "ax.bar(langs,values)\n",
        "plt.show();"
      ],
      "execution_count": null,
      "outputs": [
        {
          "output_type": "display_data",
          "data": {
            "image/png": "[encoded data removed]",
            "text/plain": [
              "<Figure size 432x288 with 1 Axes>"
            ]
          },
          "metadata": {
            "needs_background": "light"
          }
        }
      ]
    },
    {
      "cell_type": "markdown",
      "metadata": {
        "id": "PkpFOOd-jtDQ"
      },
      "source": [
        "**Tratando Dados Categóricos**"
      ]
    },
    {
      "cell_type": "code",
      "metadata": {
        "id": "s9WuvkvVjx3x",
        "colab": {
          "base_uri": "https://localhost:8080/"
        },
        "outputId": "c9fa1140-c5cf-4883-cbd4-217b0cf69703"
      },
      "source": [
        "map_replace = {\n",
        "    'NObeyesdad': {'Insufficient_Weight': 0, 'Normal_Weight': 1, 'Obesity_Type_I': 2, 'Obesity_Type_II': 3, 'Obesity_Type_III': 4, 'Overweight_Level_I': 5, 'Overweight_Level_II': 6},\n",
        "    'family_history_with_overweight': {'yes': 1, 'no': 0},\n",
        "    'FAVC': {'yes': 1, 'no': 0},\n",
        "    'SMOKE': {'yes': 1, 'no': 0},\n",
        "    'SCC': {'yes': 0, 'no': 1},\n",
        "    'CAEC': {'Always': 3, 'Frequently': 2, 'Sometimes': 1, 'no': 0},\n",
        "    'CALC': {'Always': 3, 'Frequently': 2, 'Sometimes': 1, 'no': 0},\n",
        "    'MTRANS': {'Automobile': 4, 'Motorbike': 3, 'Public_Transportation': 2, 'Walking': 1, 'Bike': 0},\n",
        "    'Gender': {'Female': 1, 'Male': 0}\n",
        "}\n",
        "df_convertido = df.replace(map_replace)\n",
        "df_convertido"
      ],
      "execution_count": null,
      "outputs": [
        {
          "output_type": "execute_result",
          "data": {
            "text/html": [
              "<div>\n",
              "<style scoped>\n",
              "    .dataframe tbody tr th:only-of-type {\n",
              "        vertical-align: middle;\n",
              "    }\n",
              "\n",
              "    .dataframe tbody tr th {\n",
              "        vertical-align: top;\n",
              "    }\n",
              "\n",
              "    .dataframe thead th {\n",
              "        text-align: right;\n",
              "    }\n",
              "</style>\n",
              "<table border=\"1\" class=\"dataframe\">\n",
              "  <thead>\n",
              "    <tr style=\"text-align: right;\">\n",
              "      <th></th>\n",
              "      <th>Gender</th>\n",
              "      <th>Age</th>\n",
              "      <th>Height</th>\n",
              "      <th>Weight</th>\n",
              "      <th>family_history_with_overweight</th>\n",
              "      <th>FAVC</th>\n",
              "      <th>FCVC</th>\n",
              "      <th>NCP</th>\n",
              "      <th>CAEC</th>\n",
              "      <th>SMOKE</th>\n",
              "      <th>CH2O</th>\n",
              "      <th>SCC</th>\n",
              "      <th>FAF</th>\n",
              "      <th>TUE</th>\n",
              "      <th>CALC</th>\n",
              "      <th>MTRANS</th>\n",
              "      <th>NObeyesdad</th>\n",
              "    </tr>\n",
              "  </thead>\n",
              "  <tbody>\n",
              "    <tr>\n",
              "      <th>0</th>\n",
              "      <td>1</td>\n",
              "      <td>21.000000</td>\n",
              "      <td>1.620000</td>\n",
              "      <td>64.000000</td>\n",
              "      <td>1</td>\n",
              "      <td>0</td>\n",
              "      <td>2.0</td>\n",
              "      <td>3.0</td>\n",
              "      <td>1</td>\n",
              "      <td>0</td>\n",
              "      <td>2.000000</td>\n",
              "      <td>1</td>\n",
              "      <td>0.000000</td>\n",
              "      <td>1.000000</td>\n",
              "      <td>0</td>\n",
              "      <td>2</td>\n",
              "      <td>1</td>\n",
              "    </tr>\n",
              "    <tr>\n",
              "      <th>1</th>\n",
              "      <td>1</td>\n",
              "      <td>21.000000</td>\n",
              "      <td>1.520000</td>\n",
              "      <td>56.000000</td>\n",
              "      <td>1</td>\n",
              "      <td>0</td>\n",
              "      <td>3.0</td>\n",
              "      <td>3.0</td>\n",
              "      <td>1</td>\n",
              "      <td>1</td>\n",
              "      <td>3.000000</td>\n",
              "      <td>0</td>\n",
              "      <td>3.000000</td>\n",
              "      <td>0.000000</td>\n",
              "      <td>1</td>\n",
              "      <td>2</td>\n",
              "      <td>1</td>\n",
              "    </tr>\n",
              "    <tr>\n",
              "      <th>2</th>\n",
              "      <td>0</td>\n",
              "      <td>23.000000</td>\n",
              "      <td>1.800000</td>\n",
              "      <td>77.000000</td>\n",
              "      <td>1</td>\n",
              "      <td>0</td>\n",
              "      <td>2.0</td>\n",
              "      <td>3.0</td>\n",
              "      <td>1</td>\n",
              "      <td>0</td>\n",
              "      <td>2.000000</td>\n",
              "      <td>1</td>\n",
              "      <td>2.000000</td>\n",
              "      <td>1.000000</td>\n",
              "      <td>2</td>\n",
              "      <td>2</td>\n",
              "      <td>1</td>\n",
              "    </tr>\n",
              "    <tr>\n",
              "      <th>3</th>\n",
              "      <td>0</td>\n",
              "      <td>27.000000</td>\n",
              "      <td>1.800000</td>\n",
              "      <td>87.000000</td>\n",
              "      <td>0</td>\n",
              "      <td>0</td>\n",
              "      <td>3.0</td>\n",
              "      <td>3.0</td>\n",
              "      <td>1</td>\n",
              "      <td>0</td>\n",
              "      <td>2.000000</td>\n",
              "      <td>1</td>\n",
              "      <td>2.000000</td>\n",
              "      <td>0.000000</td>\n",
              "      <td>2</td>\n",
              "      <td>1</td>\n",
              "      <td>5</td>\n",
              "    </tr>\n",
              "    <tr>\n",
              "      <th>4</th>\n",
              "      <td>0</td>\n",
              "      <td>22.000000</td>\n",
              "      <td>1.780000</td>\n",
              "      <td>89.800000</td>\n",
              "      <td>0</td>\n",
              "      <td>0</td>\n",
              "      <td>2.0</td>\n",
              "      <td>1.0</td>\n",
              "      <td>1</td>\n",
              "      <td>0</td>\n",
              "      <td>2.000000</td>\n",
              "      <td>1</td>\n",
              "      <td>0.000000</td>\n",
              "      <td>0.000000</td>\n",
              "      <td>1</td>\n",
              "      <td>2</td>\n",
              "      <td>6</td>\n",
              "    </tr>\n",
              "    <tr>\n",
              "      <th>...</th>\n",
              "      <td>...</td>\n",
              "      <td>...</td>\n",
              "      <td>...</td>\n",
              "      <td>...</td>\n",
              "      <td>...</td>\n",
              "      <td>...</td>\n",
              "      <td>...</td>\n",
              "      <td>...</td>\n",
              "      <td>...</td>\n",
              "      <td>...</td>\n",
              "      <td>...</td>\n",
              "      <td>...</td>\n",
              "      <td>...</td>\n",
              "      <td>...</td>\n",
              "      <td>...</td>\n",
              "      <td>...</td>\n",
              "      <td>...</td>\n",
              "    </tr>\n",
              "    <tr>\n",
              "      <th>2106</th>\n",
              "      <td>1</td>\n",
              "      <td>20.976842</td>\n",
              "      <td>1.710730</td>\n",
              "      <td>131.408528</td>\n",
              "      <td>1</td>\n",
              "      <td>1</td>\n",
              "      <td>3.0</td>\n",
              "      <td>3.0</td>\n",
              "      <td>1</td>\n",
              "      <td>0</td>\n",
              "      <td>1.728139</td>\n",
              "      <td>1</td>\n",
              "      <td>1.676269</td>\n",
              "      <td>0.906247</td>\n",
              "      <td>1</td>\n",
              "      <td>2</td>\n",
              "      <td>4</td>\n",
              "    </tr>\n",
              "    <tr>\n",
              "      <th>2107</th>\n",
              "      <td>1</td>\n",
              "      <td>21.982942</td>\n",
              "      <td>1.748584</td>\n",
              "      <td>133.742943</td>\n",
              "      <td>1</td>\n",
              "      <td>1</td>\n",
              "      <td>3.0</td>\n",
              "      <td>3.0</td>\n",
              "      <td>1</td>\n",
              "      <td>0</td>\n",
              "      <td>2.005130</td>\n",
              "      <td>1</td>\n",
              "      <td>1.341390</td>\n",
              "      <td>0.599270</td>\n",
              "      <td>1</td>\n",
              "      <td>2</td>\n",
              "      <td>4</td>\n",
              "    </tr>\n",
              "    <tr>\n",
              "      <th>2108</th>\n",
              "      <td>1</td>\n",
              "      <td>22.524036</td>\n",
              "      <td>1.752206</td>\n",
              "      <td>133.689352</td>\n",
              "      <td>1</td>\n",
              "      <td>1</td>\n",
              "      <td>3.0</td>\n",
              "      <td>3.0</td>\n",
              "      <td>1</td>\n",
              "      <td>0</td>\n",
              "      <td>2.054193</td>\n",
              "      <td>1</td>\n",
              "      <td>1.414209</td>\n",
              "      <td>0.646288</td>\n",
              "      <td>1</td>\n",
              "      <td>2</td>\n",
              "      <td>4</td>\n",
              "    </tr>\n",
              "    <tr>\n",
              "      <th>2109</th>\n",
              "      <td>1</td>\n",
              "      <td>24.361936</td>\n",
              "      <td>1.739450</td>\n",
              "      <td>133.346641</td>\n",
              "      <td>1</td>\n",
              "      <td>1</td>\n",
              "      <td>3.0</td>\n",
              "      <td>3.0</td>\n",
              "      <td>1</td>\n",
              "      <td>0</td>\n",
              "      <td>2.852339</td>\n",
              "      <td>1</td>\n",
              "      <td>1.139107</td>\n",
              "      <td>0.586035</td>\n",
              "      <td>1</td>\n",
              "      <td>2</td>\n",
              "      <td>4</td>\n",
              "    </tr>\n",
              "    <tr>\n",
              "      <th>2110</th>\n",
              "      <td>1</td>\n",
              "      <td>23.664709</td>\n",
              "      <td>1.738836</td>\n",
              "      <td>133.472641</td>\n",
              "      <td>1</td>\n",
              "      <td>1</td>\n",
              "      <td>3.0</td>\n",
              "      <td>3.0</td>\n",
              "      <td>1</td>\n",
              "      <td>0</td>\n",
              "      <td>2.863513</td>\n",
              "      <td>1</td>\n",
              "      <td>1.026452</td>\n",
              "      <td>0.714137</td>\n",
              "      <td>1</td>\n",
              "      <td>2</td>\n",
              "      <td>4</td>\n",
              "    </tr>\n",
              "  </tbody>\n",
              "</table>\n",
              "<p>2111 rows × 17 columns</p>\n",
              "</div>"
            ],
            "text/plain": [
              "      Gender        Age    Height  ...  CALC  MTRANS  NObeyesdad\n",
              "0          1  21.000000  1.620000  ...     0       2           1\n",
              "1          1  21.000000  1.520000  ...     1       2           1\n",
              "2          0  23.000000  1.800000  ...     2       2           1\n",
              "3          0  27.000000  1.800000  ...     2       1           5\n",
              "4          0  22.000000  1.780000  ...     1       2           6\n",
              "...      ...        ...       ...  ...   ...     ...         ...\n",
              "2106       1  20.976842  1.710730  ...     1       2           4\n",
              "2107       1  21.982942  1.748584  ...     1       2           4\n",
              "2108       1  22.524036  1.752206  ...     1       2           4\n",
              "2109       1  24.361936  1.739450  ...     1       2           4\n",
              "2110       1  23.664709  1.738836  ...     1       2           4\n",
              "\n",
              "[2111 rows x 17 columns]"
            ]
          },
          "metadata": {},
          "execution_count": 12
        }
      ]
    },
    {
      "cell_type": "markdown",
      "metadata": {
        "id": "BUt1uwyKk41M"
      },
      "source": [
        "**Separando Targets e Features**"
      ]
    },
    {
      "cell_type": "code",
      "metadata": {
        "id": "BGW4xPjOkup3"
      },
      "source": [
        "X = df_convertido.drop(columns=['NObeyesdad']).to_numpy()\n",
        "y = df_convertido['NObeyesdad'].to_numpy()"
      ],
      "execution_count": null,
      "outputs": []
    },
    {
      "cell_type": "code",
      "metadata": {
        "id": "sbhbsrhelCd2"
      },
      "source": [
        "X_train, X_test, y_train, y_test = train_test_split(X, y, test_size=0.25, random_state=43, stratify=y)"
      ],
      "execution_count": null,
      "outputs": []
    },
    {
      "cell_type": "markdown",
      "metadata": {
        "id": "05-CTE9G1oD-"
      },
      "source": [
        "# Sem uso do GridSearch"
      ]
    },
    {
      "cell_type": "code",
      "metadata": {
        "id": "kXRzwkIGhSWc"
      },
      "source": [
        "algorithms = [\n",
        "                SVC(random_state=5),                        # 0\n",
        "                RandomForestClassifier(random_state=5),     # 1\n",
        "                KNeighborsClassifier(),                     # 2\n",
        "                DecisionTreeClassifier(random_state=5),     # 3\n",
        "                GradientBoostingClassifier(random_state=5), # 4\n",
        "                Perceptron(random_state=5),                 # 5\n",
        "                MLPClassifier(random_state=42),             # 6\n",
        "              ]\n",
        "\n",
        "algorithms_name = { \n",
        "                    0: 'SVC',                         # 0\n",
        "                    1: 'Random Forest',               # 1\n",
        "                    2: 'KNeighborsClassifier',        # 2\n",
        "                    3: 'DecisionTreeClassifier',      # 3\n",
        "                    4: 'GradientBoostingClassifier',  # 4\n",
        "                    5: 'Perceptron',                  # 5\n",
        "                    6: 'MLP',                         # 6     \n",
        "                  }               \n",
        "\n",
        "escalonamento = [\n",
        "                 preprocessing.StandardScaler(), \n",
        "                 preprocessing.MinMaxScaler()\n",
        "                ]"
      ],
      "execution_count": null,
      "outputs": []
    },
    {
      "cell_type": "code",
      "metadata": {
        "id": "qjfNganH3msR"
      },
      "source": [
        "resultsNewCompTest = []\n",
        "\n",
        "for idx, alg in enumerate(algorithms):\n",
        "  if (idx == 0 or idx == 2 or idx == 5 or idx == 6):\n",
        "      for ide, scal in enumerate(escalonamento):\n",
        "        pipe = Pipeline([\n",
        "          ('scale', scal),\n",
        "          ('clf', alg)\n",
        "        ])       \n",
        "        pipe.fit(X_train, y_train)\n",
        "        y_pred = pipe.predict(X_test)\n",
        "        acuraciaTest = metrics.accuracy_score(y_test, y_pred)\n",
        "        precisaoTest = metrics.precision_score(y_test, y_pred, average='weighted', zero_division=0)\n",
        "        recallTest =  metrics.recall_score(y_test, y_pred, average='weighted', zero_division=0)\n",
        "        f1Test = metrics.f1_score(y_test, y_pred, average='weighted', zero_division=0)\n",
        "        result = { 'model': algorithms_name[idx], 'Scaler': 'StandardScaler' if (ide==0) else 'MinMaxScaler', 'Acuracia': acuraciaTest, 'Precision': precisaoTest, 'Recall': recallTest, 'F1-Score': f1Test}\n",
        "        resultsNewCompTest.append(result)        \n",
        "  else:\n",
        "      pipe = Pipeline([\n",
        "        ('clf', alg)\n",
        "      ])\n",
        "\n",
        "      pipe.fit(X_train, y_train)\n",
        "      y_pred = pipe.predict(X_test)\n",
        "      acuraciaTest = metrics.accuracy_score(y_test, y_pred)\n",
        "      precisaoTest = metrics.precision_score(y_test, y_pred, average='weighted', zero_division=0)\n",
        "      recallTest =  metrics.recall_score(y_test, y_pred, average='weighted', zero_division=0)\n",
        "      f1Test = metrics.f1_score(y_test, y_pred, average='weighted', zero_division=0)\n",
        "      result = { 'model': algorithms_name[idx], 'Scaler': 'noScaler', 'Acuracia': acuraciaTest, 'Precision': precisaoTest, 'Recall': recallTest, 'F1-Score': f1Test}\n",
        "      resultsNewCompTest.append(result)"
      ],
      "execution_count": null,
      "outputs": []
    },
    {
      "cell_type": "code",
      "metadata": {
        "id": "1s99GGcU8cFl"
      },
      "source": [
        "resul = pd.DataFrame(resultsNewCompTest).sort_values(by='F1-Score', ascending=False)\n",
        "resul_mlp = resul[resul['model'] == 'MLP']\n",
        "resul_svc = resul[resul['model'] == 'SVC']\n",
        "resul_knn = resul[resul['model'] == 'KNeighborsClassifier']\n",
        "resul_perceptron = resul[resul['model'] == 'Perceptron']\n",
        "resul_gb = resul[resul['model'] == 'GradientBoostingClassifier']\n",
        "resul_rf = resul[resul['model'] == 'Random Forest']\n",
        "resul_dt = resul[resul['model'] == 'DecisionTreeClassifier']"
      ],
      "execution_count": null,
      "outputs": []
    },
    {
      "cell_type": "code",
      "metadata": {
        "colab": {
          "base_uri": "https://localhost:8080/",
          "height": 265
        },
        "id": "fFUsS_U9eGXE",
        "outputId": "5546e273-77ad-49cc-cf49-40748413eeb3"
      },
      "source": [
        "df_best_alg_sg = []\n",
        "df_best_alg_sg.append((resul_mlp.iloc[[0]]))\n",
        "df_best_alg_sg.append((resul_svc.iloc[[0]]))\n",
        "df_best_alg_sg.append((resul_knn.iloc[[0]]))\n",
        "df_best_alg_sg.append((resul_perceptron.iloc[[0]]))\n",
        "df_best_alg_sg.append((resul_gb.iloc[[0]]))\n",
        "df_best_alg_sg.append((resul_rf.iloc[[0]]))\n",
        "df_best_alg_sg.append((resul_dt.iloc[[0]]))\n",
        "\n",
        "df_list_best_sg = pd.concat(df_best_alg_sg)\n",
        "df_list_best_sg = df_list_best_sg.sort_values(by='F1-Score', ascending=False)\n",
        "df_list_best_sg"
      ],
      "execution_count": null,
      "outputs": [
        {
          "output_type": "execute_result",
          "data": {
            "text/html": [
              "<div>\n",
              "<style scoped>\n",
              "    .dataframe tbody tr th:only-of-type {\n",
              "        vertical-align: middle;\n",
              "    }\n",
              "\n",
              "    .dataframe tbody tr th {\n",
              "        vertical-align: top;\n",
              "    }\n",
              "\n",
              "    .dataframe thead th {\n",
              "        text-align: right;\n",
              "    }\n",
              "</style>\n",
              "<table border=\"1\" class=\"dataframe\">\n",
              "  <thead>\n",
              "    <tr style=\"text-align: right;\">\n",
              "      <th></th>\n",
              "      <th>model</th>\n",
              "      <th>Scaler</th>\n",
              "      <th>Acuracia</th>\n",
              "      <th>Precision</th>\n",
              "      <th>Recall</th>\n",
              "      <th>F1-Score</th>\n",
              "    </tr>\n",
              "  </thead>\n",
              "  <tbody>\n",
              "    <tr>\n",
              "      <th>6</th>\n",
              "      <td>GradientBoostingClassifier</td>\n",
              "      <td>noScaler</td>\n",
              "      <td>0.960227</td>\n",
              "      <td>0.960000</td>\n",
              "      <td>0.960227</td>\n",
              "      <td>0.959840</td>\n",
              "    </tr>\n",
              "    <tr>\n",
              "      <th>2</th>\n",
              "      <td>Random Forest</td>\n",
              "      <td>noScaler</td>\n",
              "      <td>0.958333</td>\n",
              "      <td>0.960177</td>\n",
              "      <td>0.958333</td>\n",
              "      <td>0.958695</td>\n",
              "    </tr>\n",
              "    <tr>\n",
              "      <th>5</th>\n",
              "      <td>DecisionTreeClassifier</td>\n",
              "      <td>noScaler</td>\n",
              "      <td>0.954545</td>\n",
              "      <td>0.954534</td>\n",
              "      <td>0.954545</td>\n",
              "      <td>0.954427</td>\n",
              "    </tr>\n",
              "    <tr>\n",
              "      <th>9</th>\n",
              "      <td>MLP</td>\n",
              "      <td>StandardScaler</td>\n",
              "      <td>0.926136</td>\n",
              "      <td>0.926938</td>\n",
              "      <td>0.926136</td>\n",
              "      <td>0.926226</td>\n",
              "    </tr>\n",
              "    <tr>\n",
              "      <th>0</th>\n",
              "      <td>SVC</td>\n",
              "      <td>StandardScaler</td>\n",
              "      <td>0.890152</td>\n",
              "      <td>0.892353</td>\n",
              "      <td>0.890152</td>\n",
              "      <td>0.891053</td>\n",
              "    </tr>\n",
              "    <tr>\n",
              "      <th>3</th>\n",
              "      <td>KNeighborsClassifier</td>\n",
              "      <td>StandardScaler</td>\n",
              "      <td>0.820076</td>\n",
              "      <td>0.825261</td>\n",
              "      <td>0.820076</td>\n",
              "      <td>0.811227</td>\n",
              "    </tr>\n",
              "    <tr>\n",
              "      <th>7</th>\n",
              "      <td>Perceptron</td>\n",
              "      <td>StandardScaler</td>\n",
              "      <td>0.647727</td>\n",
              "      <td>0.675561</td>\n",
              "      <td>0.647727</td>\n",
              "      <td>0.650746</td>\n",
              "    </tr>\n",
              "  </tbody>\n",
              "</table>\n",
              "</div>"
            ],
            "text/plain": [
              "                        model          Scaler  ...    Recall  F1-Score\n",
              "6  GradientBoostingClassifier        noScaler  ...  0.960227  0.959840\n",
              "2               Random Forest        noScaler  ...  0.958333  0.958695\n",
              "5      DecisionTreeClassifier        noScaler  ...  0.954545  0.954427\n",
              "9                         MLP  StandardScaler  ...  0.926136  0.926226\n",
              "0                         SVC  StandardScaler  ...  0.890152  0.891053\n",
              "3        KNeighborsClassifier  StandardScaler  ...  0.820076  0.811227\n",
              "7                  Perceptron  StandardScaler  ...  0.647727  0.650746\n",
              "\n",
              "[7 rows x 6 columns]"
            ]
          },
          "metadata": {},
          "execution_count": 18
        }
      ]
    },
    {
      "cell_type": "code",
      "metadata": {
        "colab": {
          "base_uri": "https://localhost:8080/",
          "height": 80
        },
        "id": "HhaPeQLlSyZa",
        "outputId": "ee193f58-2709-4d31-df2d-274ccb8133b3"
      },
      "source": [
        "best_1 = df_list_best_sg.iloc[[0]]\n",
        "best_1"
      ],
      "execution_count": null,
      "outputs": [
        {
          "output_type": "execute_result",
          "data": {
            "text/html": [
              "<div>\n",
              "<style scoped>\n",
              "    .dataframe tbody tr th:only-of-type {\n",
              "        vertical-align: middle;\n",
              "    }\n",
              "\n",
              "    .dataframe tbody tr th {\n",
              "        vertical-align: top;\n",
              "    }\n",
              "\n",
              "    .dataframe thead th {\n",
              "        text-align: right;\n",
              "    }\n",
              "</style>\n",
              "<table border=\"1\" class=\"dataframe\">\n",
              "  <thead>\n",
              "    <tr style=\"text-align: right;\">\n",
              "      <th></th>\n",
              "      <th>model</th>\n",
              "      <th>Scaler</th>\n",
              "      <th>Acuracia</th>\n",
              "      <th>Precision</th>\n",
              "      <th>Recall</th>\n",
              "      <th>F1-Score</th>\n",
              "    </tr>\n",
              "  </thead>\n",
              "  <tbody>\n",
              "    <tr>\n",
              "      <th>6</th>\n",
              "      <td>GradientBoostingClassifier</td>\n",
              "      <td>noScaler</td>\n",
              "      <td>0.960227</td>\n",
              "      <td>0.96</td>\n",
              "      <td>0.960227</td>\n",
              "      <td>0.95984</td>\n",
              "    </tr>\n",
              "  </tbody>\n",
              "</table>\n",
              "</div>"
            ],
            "text/plain": [
              "                        model    Scaler  ...    Recall  F1-Score\n",
              "6  GradientBoostingClassifier  noScaler  ...  0.960227   0.95984\n",
              "\n",
              "[1 rows x 6 columns]"
            ]
          },
          "metadata": {},
          "execution_count": 58
        }
      ]
    },
    {
      "cell_type": "code",
      "metadata": {
        "colab": {
          "base_uri": "https://localhost:8080/",
          "height": 246
        },
        "id": "ONJjd6S5fvqL",
        "outputId": "34d719ff-67c1-4061-dcab-95c4c0727277"
      },
      "source": [
        "ax = df_list_best_sg.plot.bar(x='model', y='F1-Score', rot=0)\n",
        "ax"
      ],
      "execution_count": null,
      "outputs": [
        {
          "output_type": "execute_result",
          "data": {
            "text/plain": [
              "<matplotlib.axes._subplots.AxesSubplot at 0x7f4f42aaab90>"
            ]
          },
          "metadata": {},
          "execution_count": 19
        },
        {
          "output_type": "display_data",
          "data": {
            "image/png": "[encoded data removed]",
            "text/plain": [
              "<Figure size 1440x216 with 1 Axes>"
            ]
          },
          "metadata": {
            "needs_background": "light"
          }
        }
      ]
    },
    {
      "cell_type": "markdown",
      "metadata": {
        "id": "OlyBOt5GwUg0"
      },
      "source": [
        "# GridSerach"
      ]
    },
    {
      "cell_type": "code",
      "metadata": {
        "id": "tDUKwnWIQ_Ed"
      },
      "source": [
        "param_grid_svc = [\n",
        "    {\n",
        "        'clf__C': np.logspace(-4, 4, 9),\n",
        "        'clf__kernel': ['rbf', 'sigmoid'],\n",
        "        'clf__gamma': ['scale', 'auto'],\n",
        "        'clf__max_iter': [-1, 10, 100, 1000],\n",
        "    },\n",
        "]\n",
        "\n",
        "param_grid_rf = [\n",
        "    {\n",
        "        'clf__n_estimators': [15, 30, 50, 70, 150, 250],\n",
        "        'clf__criterion': ['gini', 'entropy'],\n",
        "    },\n",
        "]\n",
        "\n",
        "param_grid_knn = [\n",
        "    {\n",
        "        'clf__n_neighbors': [1, 2, 3, 4, 5, 6, 7, 8, 9, 10],\n",
        "        'clf__algorithm': ['auto', 'ball_tree', 'kd_tree', 'brute'],\n",
        "    },\n",
        "]\n",
        "\n",
        "param_grid_dt = [\n",
        "    {\n",
        "        'clf__criterion': ['gini', 'entropy'],\n",
        "        'clf__splitter':['best', 'random'],\n",
        "    },\n",
        "]\n",
        "\n",
        "param_grid_gb = [\n",
        "    {\n",
        "        'clf__n_estimators' : [30, 40, 50,100, 200, 300], \n",
        "        'clf__learning_rate' : [0.001, 0.1, 0.2, 0.4, 0.6, 0.7, 1.0],\n",
        "        'clf__max_depth':[-1, 1, 2, 3],       \n",
        "    },\n",
        "]\n",
        "\n",
        "param_grid_percp = [\n",
        "    {\n",
        "        'clf__penalty': ['l1', 'l2', 'elasticnet', 'none'],\n",
        "        'clf__max_iter': [10, 100, 1000],\n",
        "        'clf__tol':[1e-1, 1e-2, 1e-3, 1e-4],  \n",
        "    },\n",
        "]\n",
        "\n",
        "param_grid_mlp = [\n",
        "    {\n",
        "        'clf__learning_rate': ['constant', 'invscaling', 'adaptive'],\n",
        "        'clf__max_iter': [10, 100, 1000],\n",
        "        'clf__tol':[1e-1, 1e-2, 1e-3, 1e-4],  \n",
        "    },\n",
        "]\n",
        "\n",
        "params = [param_grid_svc, param_grid_rf, param_grid_knn, param_grid_dt, param_grid_gb, param_grid_percp, param_grid_mlp]"
      ],
      "execution_count": null,
      "outputs": []
    },
    {
      "cell_type": "code",
      "metadata": {
        "id": "pLBmIXscITsK"
      },
      "source": [
        "resultados_gs = []\n",
        "escalonamento = [preprocessing.StandardScaler(), preprocessing.MinMaxScaler()]\n",
        "for idx, alg in enumerate(algorithms):\n",
        "  if (idx == 0 or idx == 2 or idx == 5 or idx == 6):\n",
        "      for ide, scal in enumerate(escalonamento):\n",
        "        pipe = Pipeline([\n",
        "          ('scale', scal),\n",
        "          ('clf', alg)\n",
        "        ])\n",
        "        grid = GridSearchCV(pipe, param_grid=params[idx], scoring='f1_weighted', cv=5, n_jobs=-1)\n",
        "        gs_result = grid.fit(X_train, y_train)\n",
        "        r = {'Algoritmo': algorithms_name[idx], 'Melhor Parametro': grid.best_params_, 'Escalonador': 'StandardScaler' if (ide==0) else 'MinMaxScaler', 'F1-Score': grid.best_score_}\n",
        "        resultados_gs.append(r)       \n",
        "  else:\n",
        "      pipe = Pipeline([\n",
        "        ('clf', alg)\n",
        "      ])\n",
        "      grid = GridSearchCV(pipe, param_grid=params[idx], scoring='f1_weighted', cv=5, n_jobs=-1)\n",
        "      gs_results = grid.fit(X_train, y_train)\n",
        "      r = {'Algoritmo': algorithms_name[idx], 'Melhor Parametro': grid.best_params_, 'Escalonador': 'No Scaler', 'F1-Score': grid.best_score_}\n",
        "      resultados_gs.append(r)  "
      ],
      "execution_count": null,
      "outputs": []
    },
    {
      "cell_type": "code",
      "metadata": {
        "colab": {
          "base_uri": "https://localhost:8080/",
          "height": 388
        },
        "id": "rj7rIf_Rozz9",
        "outputId": "f31930e5-f3f2-4741-e05e-12d6ff40b923"
      },
      "source": [
        "appended_data=pd.DataFrame(resultados_gs)\n",
        "appended_data"
      ],
      "execution_count": null,
      "outputs": [
        {
          "output_type": "execute_result",
          "data": {
            "text/html": [
              "<div>\n",
              "<style scoped>\n",
              "    .dataframe tbody tr th:only-of-type {\n",
              "        vertical-align: middle;\n",
              "    }\n",
              "\n",
              "    .dataframe tbody tr th {\n",
              "        vertical-align: top;\n",
              "    }\n",
              "\n",
              "    .dataframe thead th {\n",
              "        text-align: right;\n",
              "    }\n",
              "</style>\n",
              "<table border=\"1\" class=\"dataframe\">\n",
              "  <thead>\n",
              "    <tr style=\"text-align: right;\">\n",
              "      <th></th>\n",
              "      <th>Algoritmo</th>\n",
              "      <th>Melhor Parametro</th>\n",
              "      <th>Escalonador</th>\n",
              "      <th>F1-Score</th>\n",
              "    </tr>\n",
              "  </thead>\n",
              "  <tbody>\n",
              "    <tr>\n",
              "      <th>0</th>\n",
              "      <td>SVC</td>\n",
              "      <td>{'clf__C': 100.0, 'clf__gamma': 'scale', 'clf_...</td>\n",
              "      <td>StandardScaler</td>\n",
              "      <td>0.910438</td>\n",
              "    </tr>\n",
              "    <tr>\n",
              "      <th>1</th>\n",
              "      <td>SVC</td>\n",
              "      <td>{'clf__C': 1000.0, 'clf__gamma': 'auto', 'clf_...</td>\n",
              "      <td>MinMaxScaler</td>\n",
              "      <td>0.942904</td>\n",
              "    </tr>\n",
              "    <tr>\n",
              "      <th>2</th>\n",
              "      <td>Random Forest</td>\n",
              "      <td>{'clf__criterion': 'entropy', 'clf__n_estimato...</td>\n",
              "      <td>No Scaler</td>\n",
              "      <td>0.950178</td>\n",
              "    </tr>\n",
              "    <tr>\n",
              "      <th>3</th>\n",
              "      <td>KNeighborsClassifier</td>\n",
              "      <td>{'clf__algorithm': 'auto', 'clf__n_neighbors': 1}</td>\n",
              "      <td>StandardScaler</td>\n",
              "      <td>0.808206</td>\n",
              "    </tr>\n",
              "    <tr>\n",
              "      <th>4</th>\n",
              "      <td>KNeighborsClassifier</td>\n",
              "      <td>{'clf__algorithm': 'auto', 'clf__n_neighbors': 1}</td>\n",
              "      <td>MinMaxScaler</td>\n",
              "      <td>0.783439</td>\n",
              "    </tr>\n",
              "    <tr>\n",
              "      <th>5</th>\n",
              "      <td>DecisionTreeClassifier</td>\n",
              "      <td>{'clf__criterion': 'entropy', 'clf__splitter':...</td>\n",
              "      <td>No Scaler</td>\n",
              "      <td>0.939822</td>\n",
              "    </tr>\n",
              "    <tr>\n",
              "      <th>6</th>\n",
              "      <td>GradientBoostingClassifier</td>\n",
              "      <td>{'clf__learning_rate': 0.1, 'clf__max_depth': ...</td>\n",
              "      <td>No Scaler</td>\n",
              "      <td>0.960817</td>\n",
              "    </tr>\n",
              "    <tr>\n",
              "      <th>7</th>\n",
              "      <td>Perceptron</td>\n",
              "      <td>{'clf__max_iter': 100, 'clf__penalty': 'l1', '...</td>\n",
              "      <td>StandardScaler</td>\n",
              "      <td>0.647552</td>\n",
              "    </tr>\n",
              "    <tr>\n",
              "      <th>8</th>\n",
              "      <td>Perceptron</td>\n",
              "      <td>{'clf__max_iter': 10, 'clf__penalty': 'l1', 'c...</td>\n",
              "      <td>MinMaxScaler</td>\n",
              "      <td>0.602836</td>\n",
              "    </tr>\n",
              "    <tr>\n",
              "      <th>9</th>\n",
              "      <td>MLP</td>\n",
              "      <td>{'clf__learning_rate': 'constant', 'clf__max_i...</td>\n",
              "      <td>StandardScaler</td>\n",
              "      <td>0.912700</td>\n",
              "    </tr>\n",
              "    <tr>\n",
              "      <th>10</th>\n",
              "      <td>MLP</td>\n",
              "      <td>{'clf__learning_rate': 'constant', 'clf__max_i...</td>\n",
              "      <td>MinMaxScaler</td>\n",
              "      <td>0.934910</td>\n",
              "    </tr>\n",
              "  </tbody>\n",
              "</table>\n",
              "</div>"
            ],
            "text/plain": [
              "                     Algoritmo  ...  F1-Score\n",
              "0                          SVC  ...  0.910438\n",
              "1                          SVC  ...  0.942904\n",
              "2                Random Forest  ...  0.950178\n",
              "3         KNeighborsClassifier  ...  0.808206\n",
              "4         KNeighborsClassifier  ...  0.783439\n",
              "5       DecisionTreeClassifier  ...  0.939822\n",
              "6   GradientBoostingClassifier  ...  0.960817\n",
              "7                   Perceptron  ...  0.647552\n",
              "8                   Perceptron  ...  0.602836\n",
              "9                          MLP  ...  0.912700\n",
              "10                         MLP  ...  0.934910\n",
              "\n",
              "[11 rows x 4 columns]"
            ]
          },
          "metadata": {},
          "execution_count": 22
        }
      ]
    },
    {
      "cell_type": "code",
      "metadata": {
        "id": "t2XSY7SKZ3n5"
      },
      "source": [
        "df_svc = (appended_data[appended_data['Algoritmo']=='SVC']).sort_values(by='F1-Score', ascending=False)\n",
        "df_rf = (appended_data[appended_data['Algoritmo']=='Random Forest']).sort_values(by='F1-Score', ascending=False)\n",
        "df_knn = appended_data[appended_data['Algoritmo']=='KNeighborsClassifier'].sort_values(by='F1-Score', ascending=False)\n",
        "df_dt = appended_data[appended_data['Algoritmo']=='DecisionTreeClassifier'].sort_values(by='F1-Score', ascending=False)\n",
        "df_gb = appended_data[appended_data['Algoritmo']=='GradientBoostingClassifier'].sort_values(by='F1-Score', ascending=False)\n",
        "df_perceptron = appended_data[appended_data['Algoritmo']=='Perceptron'].sort_values(by='F1-Score', ascending=False)\n",
        "df_mp = appended_data[appended_data['Algoritmo']=='MLP'].sort_values(by='F1-Score', ascending=False)"
      ],
      "execution_count": null,
      "outputs": []
    },
    {
      "cell_type": "code",
      "metadata": {
        "id": "M-9erYuDizni",
        "colab": {
          "base_uri": "https://localhost:8080/",
          "height": 265
        },
        "outputId": "01140572-51cf-42f4-f7ed-601dbe2673bd"
      },
      "source": [
        "df_best_alg = []\n",
        "df_best_alg.append((df_svc.iloc[[0]]))\n",
        "df_best_alg.append((df_rf.iloc[[0]]))\n",
        "df_best_alg.append((df_knn.iloc[[0]]))\n",
        "df_best_alg.append((df_dt.iloc[[0]]))\n",
        "df_best_alg.append((df_gb.iloc[[0]]))\n",
        "df_best_alg.append((df_perceptron.iloc[[0]]))\n",
        "df_best_alg.append((df_mp.iloc[[0]]))\n",
        "\n",
        "df_list_best = pd.concat(df_best_alg)\n",
        "df_list_best_grid = df_list_best.sort_values(by='F1-Score', ascending=False)\n",
        "df_list_best_grid"
      ],
      "execution_count": null,
      "outputs": [
        {
          "output_type": "execute_result",
          "data": {
            "text/html": [
              "<div>\n",
              "<style scoped>\n",
              "    .dataframe tbody tr th:only-of-type {\n",
              "        vertical-align: middle;\n",
              "    }\n",
              "\n",
              "    .dataframe tbody tr th {\n",
              "        vertical-align: top;\n",
              "    }\n",
              "\n",
              "    .dataframe thead th {\n",
              "        text-align: right;\n",
              "    }\n",
              "</style>\n",
              "<table border=\"1\" class=\"dataframe\">\n",
              "  <thead>\n",
              "    <tr style=\"text-align: right;\">\n",
              "      <th></th>\n",
              "      <th>Algoritmo</th>\n",
              "      <th>Melhor Parametro</th>\n",
              "      <th>Escalonador</th>\n",
              "      <th>F1-Score</th>\n",
              "    </tr>\n",
              "  </thead>\n",
              "  <tbody>\n",
              "    <tr>\n",
              "      <th>6</th>\n",
              "      <td>GradientBoostingClassifier</td>\n",
              "      <td>{'clf__learning_rate': 0.1, 'clf__max_depth': ...</td>\n",
              "      <td>No Scaler</td>\n",
              "      <td>0.960817</td>\n",
              "    </tr>\n",
              "    <tr>\n",
              "      <th>2</th>\n",
              "      <td>Random Forest</td>\n",
              "      <td>{'clf__criterion': 'entropy', 'clf__n_estimato...</td>\n",
              "      <td>No Scaler</td>\n",
              "      <td>0.950178</td>\n",
              "    </tr>\n",
              "    <tr>\n",
              "      <th>1</th>\n",
              "      <td>SVC</td>\n",
              "      <td>{'clf__C': 1000.0, 'clf__gamma': 'auto', 'clf_...</td>\n",
              "      <td>MinMaxScaler</td>\n",
              "      <td>0.942904</td>\n",
              "    </tr>\n",
              "    <tr>\n",
              "      <th>5</th>\n",
              "      <td>DecisionTreeClassifier</td>\n",
              "      <td>{'clf__criterion': 'entropy', 'clf__splitter':...</td>\n",
              "      <td>No Scaler</td>\n",
              "      <td>0.939822</td>\n",
              "    </tr>\n",
              "    <tr>\n",
              "      <th>10</th>\n",
              "      <td>MLP</td>\n",
              "      <td>{'clf__learning_rate': 'constant', 'clf__max_i...</td>\n",
              "      <td>MinMaxScaler</td>\n",
              "      <td>0.934910</td>\n",
              "    </tr>\n",
              "    <tr>\n",
              "      <th>3</th>\n",
              "      <td>KNeighborsClassifier</td>\n",
              "      <td>{'clf__algorithm': 'auto', 'clf__n_neighbors': 1}</td>\n",
              "      <td>StandardScaler</td>\n",
              "      <td>0.808206</td>\n",
              "    </tr>\n",
              "    <tr>\n",
              "      <th>7</th>\n",
              "      <td>Perceptron</td>\n",
              "      <td>{'clf__max_iter': 100, 'clf__penalty': 'l1', '...</td>\n",
              "      <td>StandardScaler</td>\n",
              "      <td>0.647552</td>\n",
              "    </tr>\n",
              "  </tbody>\n",
              "</table>\n",
              "</div>"
            ],
            "text/plain": [
              "                     Algoritmo  ...  F1-Score\n",
              "6   GradientBoostingClassifier  ...  0.960817\n",
              "2                Random Forest  ...  0.950178\n",
              "1                          SVC  ...  0.942904\n",
              "5       DecisionTreeClassifier  ...  0.939822\n",
              "10                         MLP  ...  0.934910\n",
              "3         KNeighborsClassifier  ...  0.808206\n",
              "7                   Perceptron  ...  0.647552\n",
              "\n",
              "[7 rows x 4 columns]"
            ]
          },
          "metadata": {},
          "execution_count": 24
        }
      ]
    },
    {
      "cell_type": "code",
      "metadata": {
        "id": "l8HuCo-UoL8I",
        "colab": {
          "base_uri": "https://localhost:8080/",
          "height": 246
        },
        "outputId": "e82056a5-3e1f-438a-d64c-24185482bb04"
      },
      "source": [
        "ax = df_list_best_grid.plot.bar(x='Algoritmo', y='F1-Score', rot=0)\n",
        "ax"
      ],
      "execution_count": null,
      "outputs": [
        {
          "output_type": "execute_result",
          "data": {
            "text/plain": [
              "<matplotlib.axes._subplots.AxesSubplot at 0x7f4f429054d0>"
            ]
          },
          "metadata": {},
          "execution_count": 25
        },
        {
          "output_type": "display_data",
          "data": {
            "image/png": "[encoded data removed]",
            "text/plain": [
              "<Figure size 1440x216 with 1 Axes>"
            ]
          },
          "metadata": {
            "needs_background": "light"
          }
        }
      ]
    },
    {
      "cell_type": "code",
      "metadata": {
        "id": "Io66sRYUpMh4",
        "colab": {
          "base_uri": "https://localhost:8080/"
        },
        "outputId": "7a1a2c66-d842-4b62-ad29-075687f005da"
      },
      "source": [
        "print(df_list_best_grid['Melhor Parametro'].values[0])"
      ],
      "execution_count": null,
      "outputs": [
        {
          "output_type": "stream",
          "text": [
            "{'clf__learning_rate': 0.1, 'clf__max_depth': 3, 'clf__n_estimators': 300}\n"
          ],
          "name": "stdout"
        }
      ]
    },
    {
      "cell_type": "code",
      "metadata": {
        "id": "oorfJjjKpTbF"
      },
      "source": [
        "clf = GradientBoostingClassifier(learning_rate= 0.1, max_depth=3, n_estimators= 300)\n",
        "clf.fit(X_train, y_train)\n",
        "y_pred_test = clf.predict(X_test)\n",
        "\n",
        "acuracia = metrics.accuracy_score(y_test, y_pred_test)\n",
        "precision = metrics.precision_score(y_test, y_pred_test, average='weighted', zero_division=0)\n",
        "recall = metrics.recall_score(y_test, y_pred_test, average='weighted', zero_division=0)\n",
        "f1_score = metrics.f1_score(y_test, y_pred_test, average='weighted', zero_division=0)\n",
        "result_f=[]\n",
        "result_test = { 'Algoritmo': 'GradientBoostingClassifier','Acuracia': acuracia, 'Precision': precision, 'Recall': recall, 'F1-Score': f1_score}\n",
        "result_f.append(result_test)"
      ],
      "execution_count": null,
      "outputs": []
    },
    {
      "cell_type": "code",
      "metadata": {
        "colab": {
          "base_uri": "https://localhost:8080/",
          "height": 80
        },
        "id": "Ev0NJEUQTCup",
        "outputId": "88da9d7b-73f0-45db-b3d1-6c81aa4cf25a"
      },
      "source": [
        "best_2 = pd.DataFrame(result_f)\n",
        "best_2"
      ],
      "execution_count": null,
      "outputs": [
        {
          "output_type": "execute_result",
          "data": {
            "text/html": [
              "<div>\n",
              "<style scoped>\n",
              "    .dataframe tbody tr th:only-of-type {\n",
              "        vertical-align: middle;\n",
              "    }\n",
              "\n",
              "    .dataframe tbody tr th {\n",
              "        vertical-align: top;\n",
              "    }\n",
              "\n",
              "    .dataframe thead th {\n",
              "        text-align: right;\n",
              "    }\n",
              "</style>\n",
              "<table border=\"1\" class=\"dataframe\">\n",
              "  <thead>\n",
              "    <tr style=\"text-align: right;\">\n",
              "      <th></th>\n",
              "      <th>Algoritmo</th>\n",
              "      <th>Acuracia</th>\n",
              "      <th>Precision</th>\n",
              "      <th>Recall</th>\n",
              "      <th>F1-Score</th>\n",
              "    </tr>\n",
              "  </thead>\n",
              "  <tbody>\n",
              "    <tr>\n",
              "      <th>0</th>\n",
              "      <td>GradientBoostingClassifier</td>\n",
              "      <td>0.964015</td>\n",
              "      <td>0.963782</td>\n",
              "      <td>0.964015</td>\n",
              "      <td>0.963658</td>\n",
              "    </tr>\n",
              "  </tbody>\n",
              "</table>\n",
              "</div>"
            ],
            "text/plain": [
              "                    Algoritmo  Acuracia  Precision    Recall  F1-Score\n",
              "0  GradientBoostingClassifier  0.964015   0.963782  0.964015  0.963658"
            ]
          },
          "metadata": {},
          "execution_count": 41
        }
      ]
    },
    {
      "cell_type": "markdown",
      "metadata": {
        "id": "JQk67OXfhkpM"
      },
      "source": [
        "# Comparação Resultados Sem Gridsearch e Com Gridsearch"
      ]
    },
    {
      "cell_type": "code",
      "metadata": {
        "id": "ZpQOjL9scjRl"
      },
      "source": [
        "df_list_best_grid"
      ],
      "execution_count": null,
      "outputs": []
    },
    {
      "cell_type": "code",
      "metadata": {
        "colab": {
          "base_uri": "https://localhost:8080/",
          "height": 419
        },
        "id": "xswe7ZUVhfLj",
        "outputId": "fe56c355-9c23-45e8-f43d-4e54049eb1f9"
      },
      "source": [
        "df_comp = pd.DataFrame(list(zip(df_list_best_grid['Algoritmo'], df_list_best_grid['F1-Score'],df_list_best_sg['F1-Score'])), columns = ['Algoritmo','F1-Score com Grid', 'F1-Score sem Grid'])\n",
        "df_comp.plot(x=\"Algoritmo\", y=[\"F1-Score com Grid\", \"F1-Score sem Grid\"], kind=\"bar\", figsize=(12,4), title=\"Comparação\");"
      ],
      "execution_count": null,
      "outputs": [
        {
          "output_type": "display_data",
          "data": {
            "image/png": "[encoded data removed]",
            "text/plain": [
              "<Figure size 864x288 with 1 Axes>"
            ]
          },
          "metadata": {
            "needs_background": "light"
          }
        }
      ]
    },
    {
      "cell_type": "code",
      "metadata": {
        "id": "HP9zGPMCRpy0"
      },
      "source": [
        ""
      ],
      "execution_count": null,
      "outputs": []
    },
    {
      "cell_type": "markdown",
      "metadata": {
        "id": "NONUe7tmwF7D"
      },
      "source": [
        "# Biblioteca PipelineHelper"
      ]
    },
    {
      "cell_type": "code",
      "metadata": {
        "id": "nYc1jcIbrybE",
        "colab": {
          "base_uri": "https://localhost:8080/"
        },
        "outputId": "a14bf2f0-e4eb-44b3-cb5d-11ae7926c3c1"
      },
      "source": [
        "!pip install PipelineHelper"
      ],
      "execution_count": null,
      "outputs": [
        {
          "output_type": "stream",
          "text": [
            "Collecting PipelineHelper\n",
            "  Downloading pipelinehelper-0.7.8-py3-none-any.whl (15 kB)\n",
            "Requirement already satisfied: sklearn in /usr/local/lib/python3.7/dist-packages (from PipelineHelper) (0.0)\n",
            "Requirement already satisfied: scikit-learn in /usr/local/lib/python3.7/dist-packages (from sklearn->PipelineHelper) (0.22.2.post1)\n",
            "Requirement already satisfied: joblib>=0.11 in /usr/local/lib/python3.7/dist-packages (from scikit-learn->sklearn->PipelineHelper) (1.0.1)\n",
            "Requirement already satisfied: scipy>=0.17.0 in /usr/local/lib/python3.7/dist-packages (from scikit-learn->sklearn->PipelineHelper) (1.4.1)\n",
            "Requirement already satisfied: numpy>=1.11.0 in /usr/local/lib/python3.7/dist-packages (from scikit-learn->sklearn->PipelineHelper) (1.19.5)\n",
            "Installing collected packages: PipelineHelper\n",
            "Successfully installed PipelineHelper-0.7.8\n"
          ],
          "name": "stdout"
        }
      ]
    },
    {
      "cell_type": "code",
      "metadata": {
        "id": "_aFFBcXEQvhK"
      },
      "source": [
        "from sklearn.preprocessing import StandardScaler, MinMaxScaler\n",
        "from sklearn.svm import LinearSVC\n",
        "from sklearn.ensemble import RandomForestClassifier\n",
        "from sklearn import datasets\n",
        "from pipelinehelper import PipelineHelper\n",
        "from sklearn.pipeline import Pipeline\n",
        "\n",
        "pipe = Pipeline([\n",
        "    ('scaler', PipelineHelper([\n",
        "        ('std', StandardScaler()),\n",
        "        ('minmax', MinMaxScaler()),\n",
        "    ])),\n",
        "    ('classifier', PipelineHelper([\n",
        "        ('svm', SVC(random_state=5)),\n",
        "        ('rf', RandomForestClassifier(random_state=5)),\n",
        "        ('knn', KNeighborsClassifier()),\n",
        "        ('dt', DecisionTreeClassifier(random_state=5)),\n",
        "        ('gb', GradientBoostingClassifier(random_state=5)),\n",
        "        ('pc', Perceptron(random_state=5)),\n",
        "        ('mlp', MLPClassifier(random_state=42)),\n",
        "    ])),\n",
        "])\n",
        "\n",
        "params = {\n",
        "    'classifier__selected_model': pipe.named_steps['classifier'].generate({ \n",
        "\n",
        "        # SVM\n",
        "        'svm__C': np.logspace(-4, 4, 9),\n",
        "        'svm__kernel': ['rbf', 'sigmoid'],\n",
        "        'svm__gamma': ['scale', 'auto'],\n",
        "        'svm__max_iter': [-1, 10, 100, 1000],      \n",
        "\n",
        "        # Random Forest\n",
        "        'rf__n_estimators': [15, 30, 50, 70, 150, 250],\n",
        "        'rf__criterion': ['gini', 'entropy'],        \n",
        "\n",
        "        # kNN  \n",
        "        'knn__n_neighbors': [1, 2, 3, 4, 5, 6, 7, 8, 9, 10],\n",
        "        'knn__algorithm': ['auto', 'ball_tree', 'kd_tree', 'brute'],          \n",
        "\n",
        "        # Árvore de Decisão\n",
        "        'dt__criterion': ['gini', 'entropy'],\n",
        "        'dt__splitter':['best', 'random'],\n",
        "\n",
        "        # Gradient Boosting        \n",
        "        'gb__n_estimators' : [30, 40, 50,100, 200, 300], \n",
        "        'gb__learning_rate' : [0.001, 0.1, 0.2, 0.4, 0.6, 0.7, 1.0],\n",
        "        'gb__max_depth':[-1, 1, 2, 3],         \n",
        "\n",
        "        # Perceptron\n",
        "        'pc__penalty' : ['l2', 'l1', 'elasticnet'],\n",
        "        'mlp__learning_rate': ['constant', 'invscaling', 'adaptive'],\n",
        "        'mlp__max_iter': [10, 100, 1000],\n",
        "        'mlp__tol':[1e-1, 1e-2, 1e-3, 1e-4],          \n",
        "    })\n",
        "}\n",
        "grid = GridSearchCV(pipe, params, scoring='f1_weighted')"
      ],
      "execution_count": null,
      "outputs": []
    },
    {
      "cell_type": "code",
      "metadata": {
        "id": "udkMHBeRzio_"
      },
      "source": [
        "grid.fit(X_train, y_train);"
      ],
      "execution_count": null,
      "outputs": []
    },
    {
      "cell_type": "code",
      "metadata": {
        "id": "pjE4OCo5z59l",
        "colab": {
          "base_uri": "https://localhost:8080/"
        },
        "outputId": "baa7c929-a5ff-4e81-e030-fe4aba2addb0"
      },
      "source": [
        "print(grid.best_params_)"
      ],
      "execution_count": null,
      "outputs": [
        {
          "output_type": "stream",
          "text": [
            "{'classifier__selected_model': ('gb', {'learning_rate': 0.1, 'max_depth': 3, 'n_estimators': 300})}\n"
          ],
          "name": "stdout"
        }
      ]
    },
    {
      "cell_type": "code",
      "metadata": {
        "id": "Y9ESsJiUz7M9",
        "colab": {
          "base_uri": "https://localhost:8080/"
        },
        "outputId": "a87dc0eb-5317-463f-c61b-a0181c576068"
      },
      "source": [
        "print(grid.best_score_)"
      ],
      "execution_count": null,
      "outputs": [
        {
          "output_type": "stream",
          "text": [
            "0.960817343193227\n"
          ],
          "name": "stdout"
        }
      ]
    },
    {
      "cell_type": "code",
      "metadata": {
        "id": "imk0nnQ84n0X"
      },
      "source": [
        "clf_b = (grid.best_estimator_).fit(X_train, y_train)"
      ],
      "execution_count": null,
      "outputs": []
    },
    {
      "cell_type": "code",
      "metadata": {
        "id": "CpOgEVR7PNmP"
      },
      "source": [
        "y_pred_test = clf_b.predict(X_test)\n",
        "\n",
        "acuracia = metrics.accuracy_score(y_test, y_pred_test)\n",
        "precision = metrics.precision_score(y_test, y_pred_test, average='weighted', zero_division=0)\n",
        "recall = metrics.recall_score(y_test, y_pred_test, average='weighted', zero_division=0)\n",
        "f1_score = metrics.f1_score(y_test, y_pred_test, average='weighted', zero_division=0)\n",
        "result_f=[]\n",
        "result_test = { 'Algoritmo': 'GradientBoostingClassifier','Acuracia': acuracia, 'Precision': precision, 'Recall': recall, 'F1-Score': f1_score}\n",
        "result_f.append(result_test)"
      ],
      "execution_count": null,
      "outputs": []
    },
    {
      "cell_type": "code",
      "metadata": {
        "colab": {
          "base_uri": "https://localhost:8080/",
          "height": 80
        },
        "id": "-sTvQtoyR2e5",
        "outputId": "b063aafb-c1b6-44bb-ae16-57dfb595e380"
      },
      "source": [
        "best_3 = pd.DataFrame(result_f)\n",
        "best_3"
      ],
      "execution_count": null,
      "outputs": [
        {
          "output_type": "execute_result",
          "data": {
            "text/html": [
              "<div>\n",
              "<style scoped>\n",
              "    .dataframe tbody tr th:only-of-type {\n",
              "        vertical-align: middle;\n",
              "    }\n",
              "\n",
              "    .dataframe tbody tr th {\n",
              "        vertical-align: top;\n",
              "    }\n",
              "\n",
              "    .dataframe thead th {\n",
              "        text-align: right;\n",
              "    }\n",
              "</style>\n",
              "<table border=\"1\" class=\"dataframe\">\n",
              "  <thead>\n",
              "    <tr style=\"text-align: right;\">\n",
              "      <th></th>\n",
              "      <th>Algoritmo</th>\n",
              "      <th>Acuracia</th>\n",
              "      <th>Precision</th>\n",
              "      <th>Recall</th>\n",
              "      <th>F1-Score</th>\n",
              "    </tr>\n",
              "  </thead>\n",
              "  <tbody>\n",
              "    <tr>\n",
              "      <th>0</th>\n",
              "      <td>GradientBoostingClassifier</td>\n",
              "      <td>0.964015</td>\n",
              "      <td>0.963782</td>\n",
              "      <td>0.964015</td>\n",
              "      <td>0.963658</td>\n",
              "    </tr>\n",
              "  </tbody>\n",
              "</table>\n",
              "</div>"
            ],
            "text/plain": [
              "                    Algoritmo  Acuracia  Precision    Recall  F1-Score\n",
              "0  GradientBoostingClassifier  0.964015   0.963782  0.964015  0.963658"
            ]
          },
          "metadata": {},
          "execution_count": 43
        }
      ]
    },
    {
      "cell_type": "markdown",
      "metadata": {
        "id": "QdHFXNgyTrUF"
      },
      "source": [
        "# Comparação do resultado da predição do conjunto de teste com os 3 métodos"
      ]
    },
    {
      "cell_type": "code",
      "metadata": {
        "id": "SgoFcbfOXCLm"
      },
      "source": [
        "best_1 = best_1.drop(columns='Scaler')"
      ],
      "execution_count": null,
      "outputs": []
    },
    {
      "cell_type": "code",
      "metadata": {
        "colab": {
          "base_uri": "https://localhost:8080/",
          "height": 141
        },
        "id": "gj6Yy28AWpLu",
        "outputId": "be312f9a-aa96-4f18-b8f6-ef46d7606980"
      },
      "source": [
        "frames = [best_1, best_2, best_3]\n",
        "result = pd.concat(frames)\n",
        "result['model']='GradientBoostingClassifier'\n",
        "result.drop(columns='Algoritmo')"
      ],
      "execution_count": null,
      "outputs": [
        {
          "output_type": "execute_result",
          "data": {
            "text/html": [
              "<div>\n",
              "<style scoped>\n",
              "    .dataframe tbody tr th:only-of-type {\n",
              "        vertical-align: middle;\n",
              "    }\n",
              "\n",
              "    .dataframe tbody tr th {\n",
              "        vertical-align: top;\n",
              "    }\n",
              "\n",
              "    .dataframe thead th {\n",
              "        text-align: right;\n",
              "    }\n",
              "</style>\n",
              "<table border=\"1\" class=\"dataframe\">\n",
              "  <thead>\n",
              "    <tr style=\"text-align: right;\">\n",
              "      <th></th>\n",
              "      <th>model</th>\n",
              "      <th>Acuracia</th>\n",
              "      <th>Precision</th>\n",
              "      <th>Recall</th>\n",
              "      <th>F1-Score</th>\n",
              "    </tr>\n",
              "  </thead>\n",
              "  <tbody>\n",
              "    <tr>\n",
              "      <th>6</th>\n",
              "      <td>GradientBoostingClassifier</td>\n",
              "      <td>0.960227</td>\n",
              "      <td>0.960000</td>\n",
              "      <td>0.960227</td>\n",
              "      <td>0.959840</td>\n",
              "    </tr>\n",
              "    <tr>\n",
              "      <th>0</th>\n",
              "      <td>GradientBoostingClassifier</td>\n",
              "      <td>0.964015</td>\n",
              "      <td>0.963782</td>\n",
              "      <td>0.964015</td>\n",
              "      <td>0.963658</td>\n",
              "    </tr>\n",
              "    <tr>\n",
              "      <th>0</th>\n",
              "      <td>GradientBoostingClassifier</td>\n",
              "      <td>0.964015</td>\n",
              "      <td>0.963782</td>\n",
              "      <td>0.964015</td>\n",
              "      <td>0.963658</td>\n",
              "    </tr>\n",
              "  </tbody>\n",
              "</table>\n",
              "</div>"
            ],
            "text/plain": [
              "                        model  Acuracia  Precision    Recall  F1-Score\n",
              "6  GradientBoostingClassifier  0.960227   0.960000  0.960227  0.959840\n",
              "0  GradientBoostingClassifier  0.964015   0.963782  0.964015  0.963658\n",
              "0  GradientBoostingClassifier  0.964015   0.963782  0.964015  0.963658"
            ]
          },
          "metadata": {},
          "execution_count": 64
        }
      ]
    },
    {
      "cell_type": "code",
      "metadata": {
        "colab": {
          "base_uri": "https://localhost:8080/",
          "height": 419
        },
        "id": "6E2K4gH9XS63",
        "outputId": "9443a1b2-6675-4a20-c46e-bab06f170144"
      },
      "source": [
        "result.plot(x=\"model\", y=[\"Acuracia\", \"Precision\", \"Recall\", \"F1-Score\"], kind=\"bar\", figsize=(12,4), title=\"GradientBoosting\");"
      ],
      "execution_count": null,
      "outputs": [
        {
          "output_type": "display_data",
          "data": {
            "image/png": "[encoded data removed]",
            "text/plain": [
              "<Figure size 864x288 with 1 Axes>"
            ]
          },
          "metadata": {
            "needs_background": "light"
          }
        }
      ]
    },
    {
      "cell_type": "code",
      "metadata": {
        "id": "TiAzY26wXzNl"
      },
      "source": [
        ""
      ],
      "execution_count": null,
      "outputs": []
    }
  ]
}
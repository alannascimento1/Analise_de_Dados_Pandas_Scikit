{
  "nbformat": 4,
  "nbformat_minor": 0,
  "metadata": {
    "colab": {
      "name": "Trabalho_Final_V4.ipynb",
      "provenance": [],
      "collapsed_sections": [
        "SgoSODeKDmtX"
      ]
    },
    "kernelspec": {
      "name": "python3",
      "display_name": "Python 3"
    },
    "language_info": {
      "name": "python"
    }
  },
  "cells": [
    {
      "cell_type": "markdown",
      "metadata": {
        "id": "gOCvGT5VD5--"
      },
      "source": [
        "## **Resumo**\n",
        "### **Descrição do DataSet**\n",
        "\n",
        "*    **Nome:** *Estimation of obesity levels based on eating habits and physical condition Data Set* \n",
        "(Estimativa dos níveis de obesidade com base em hábitos alimentares e físicos, em português)\n",
        "*    **Tamanho:** (2111, 17)\n",
        "*   **Features:** \n",
        "    *   **Features Numéricas:** 8\n",
        "    *   **Features Categóricas:** 8 (Fuma, Meio de Transporte, Consumo de Álcool, etc)\n",
        "    *   **Target:** *NObeyesdad* \n",
        "        1. Obesity_Type_I\n",
        "        2. Obesity_Type_III\n",
        "        3. Obesity_Type_II\n",
        "        4. Overweight_Level_II\n",
        "        5. Overweight_Level_I\n",
        "        5. Normal_Weight\n",
        "        6. Insufficient_Weight\n",
        "\n",
        "### **Pré-Processamento sobre os dados**\n",
        "*   **Datset Original**\n",
        "*   **Padronizado**\n",
        "*   **Normalizado**\n",
        "\n",
        "### **Aplicação de Algoritmos de Classificação para cada conjunto de dados**\n",
        "*   **RandomForestClassifier**\n",
        "*   **GradientBoostingClassifier**\n",
        "*   **SVC**\n",
        "*   **GaussianNB**\n",
        "*   **kNN**\n",
        "\n",
        "### **Resultados**\n",
        "*  **Em relação as métricas: Acurácia, Precisão, Recall, F1-Score**\n",
        "      * Grandient Bossting > Random Forest > kNN > SVC > Naives Bayes\n",
        "*  **Impacto do Escalonamento das Features**\n",
        "      * kNN, SVC e NaivesBayes"
      ]
    },
    {
      "cell_type": "markdown",
      "metadata": {
        "id": "EYp_IPl8jT02"
      },
      "source": [
        "#### **Importando Bibliotecas**"
      ]
    },
    {
      "cell_type": "code",
      "metadata": {
        "id": "V8UE8ThjjMKu"
      },
      "source": [
        "import pandas as pd\n",
        "import numpy as np\n",
        "import matplotlib.pyplot as plt\n",
        "from sklearn.model_selection import train_test_split\n",
        "from sklearn.neighbors import KNeighborsClassifier\n",
        "from sklearn import preprocessing\n",
        "from sklearn import metrics\n",
        "from sklearn import linear_model\n",
        "from sklearn.ensemble import RandomForestClassifier\n",
        "from sklearn.ensemble import GradientBoostingClassifier\n",
        "from sklearn import svm\n",
        "from sklearn.naive_bayes import GaussianNB\n",
        "from sklearn.linear_model import SGDClassifier"
      ],
      "execution_count": null,
      "outputs": []
    },
    {
      "cell_type": "markdown",
      "metadata": {
        "id": "vuOHZTTIjaVN"
      },
      "source": [
        "#### **Carregando dataset**"
      ]
    },
    {
      "cell_type": "code",
      "metadata": {
        "colab": {
          "base_uri": "https://localhost:8080/"
        },
        "id": "hP4hE_cQjX21",
        "outputId": "8d66aa94-cd50-4a27-cc18-8296d6b5e6f7"
      },
      "source": [
        "df = pd.read_csv('/content/drive/MyDrive/AprendizadoDeMaquina/datasets/obesidade.csv')\n",
        "print(df.shape)"
      ],
      "execution_count": null,
      "outputs": [
        {
          "output_type": "stream",
          "text": [
            "(2111, 17)\n"
          ],
          "name": "stdout"
        }
      ]
    },
    {
      "cell_type": "markdown",
      "metadata": {
        "id": "7dgmsbu9R9rD"
      },
      "source": [
        "#### **Descrição Features Numéricas**"
      ]
    },
    {
      "cell_type": "code",
      "metadata": {
        "id": "C7g5ULwfjdgs",
        "colab": {
          "base_uri": "https://localhost:8080/",
          "height": 287
        },
        "outputId": "c16bd27f-f17b-48e1-c2af-3faf88291101"
      },
      "source": [
        "df.describe()"
      ],
      "execution_count": null,
      "outputs": [
        {
          "output_type": "execute_result",
          "data": {
            "text/html": [
              "<div>\n",
              "<style scoped>\n",
              "    .dataframe tbody tr th:only-of-type {\n",
              "        vertical-align: middle;\n",
              "    }\n",
              "\n",
              "    .dataframe tbody tr th {\n",
              "        vertical-align: top;\n",
              "    }\n",
              "\n",
              "    .dataframe thead th {\n",
              "        text-align: right;\n",
              "    }\n",
              "</style>\n",
              "<table border=\"1\" class=\"dataframe\">\n",
              "  <thead>\n",
              "    <tr style=\"text-align: right;\">\n",
              "      <th></th>\n",
              "      <th>Age</th>\n",
              "      <th>Height</th>\n",
              "      <th>Weight</th>\n",
              "      <th>FCVC</th>\n",
              "      <th>NCP</th>\n",
              "      <th>CH2O</th>\n",
              "      <th>FAF</th>\n",
              "      <th>TUE</th>\n",
              "    </tr>\n",
              "  </thead>\n",
              "  <tbody>\n",
              "    <tr>\n",
              "      <th>count</th>\n",
              "      <td>2111.000000</td>\n",
              "      <td>2111.000000</td>\n",
              "      <td>2111.000000</td>\n",
              "      <td>2111.000000</td>\n",
              "      <td>2111.000000</td>\n",
              "      <td>2111.000000</td>\n",
              "      <td>2111.000000</td>\n",
              "      <td>2111.000000</td>\n",
              "    </tr>\n",
              "    <tr>\n",
              "      <th>mean</th>\n",
              "      <td>24.312600</td>\n",
              "      <td>1.701677</td>\n",
              "      <td>86.586058</td>\n",
              "      <td>2.419043</td>\n",
              "      <td>2.685628</td>\n",
              "      <td>2.008011</td>\n",
              "      <td>1.010298</td>\n",
              "      <td>0.657866</td>\n",
              "    </tr>\n",
              "    <tr>\n",
              "      <th>std</th>\n",
              "      <td>6.345968</td>\n",
              "      <td>0.093305</td>\n",
              "      <td>26.191172</td>\n",
              "      <td>0.533927</td>\n",
              "      <td>0.778039</td>\n",
              "      <td>0.612953</td>\n",
              "      <td>0.850592</td>\n",
              "      <td>0.608927</td>\n",
              "    </tr>\n",
              "    <tr>\n",
              "      <th>min</th>\n",
              "      <td>14.000000</td>\n",
              "      <td>1.450000</td>\n",
              "      <td>39.000000</td>\n",
              "      <td>1.000000</td>\n",
              "      <td>1.000000</td>\n",
              "      <td>1.000000</td>\n",
              "      <td>0.000000</td>\n",
              "      <td>0.000000</td>\n",
              "    </tr>\n",
              "    <tr>\n",
              "      <th>25%</th>\n",
              "      <td>19.947192</td>\n",
              "      <td>1.630000</td>\n",
              "      <td>65.473343</td>\n",
              "      <td>2.000000</td>\n",
              "      <td>2.658738</td>\n",
              "      <td>1.584812</td>\n",
              "      <td>0.124505</td>\n",
              "      <td>0.000000</td>\n",
              "    </tr>\n",
              "    <tr>\n",
              "      <th>50%</th>\n",
              "      <td>22.777890</td>\n",
              "      <td>1.700499</td>\n",
              "      <td>83.000000</td>\n",
              "      <td>2.385502</td>\n",
              "      <td>3.000000</td>\n",
              "      <td>2.000000</td>\n",
              "      <td>1.000000</td>\n",
              "      <td>0.625350</td>\n",
              "    </tr>\n",
              "    <tr>\n",
              "      <th>75%</th>\n",
              "      <td>26.000000</td>\n",
              "      <td>1.768464</td>\n",
              "      <td>107.430682</td>\n",
              "      <td>3.000000</td>\n",
              "      <td>3.000000</td>\n",
              "      <td>2.477420</td>\n",
              "      <td>1.666678</td>\n",
              "      <td>1.000000</td>\n",
              "    </tr>\n",
              "    <tr>\n",
              "      <th>max</th>\n",
              "      <td>61.000000</td>\n",
              "      <td>1.980000</td>\n",
              "      <td>173.000000</td>\n",
              "      <td>3.000000</td>\n",
              "      <td>4.000000</td>\n",
              "      <td>3.000000</td>\n",
              "      <td>3.000000</td>\n",
              "      <td>2.000000</td>\n",
              "    </tr>\n",
              "  </tbody>\n",
              "</table>\n",
              "</div>"
            ],
            "text/plain": [
              "               Age       Height  ...          FAF          TUE\n",
              "count  2111.000000  2111.000000  ...  2111.000000  2111.000000\n",
              "mean     24.312600     1.701677  ...     1.010298     0.657866\n",
              "std       6.345968     0.093305  ...     0.850592     0.608927\n",
              "min      14.000000     1.450000  ...     0.000000     0.000000\n",
              "25%      19.947192     1.630000  ...     0.124505     0.000000\n",
              "50%      22.777890     1.700499  ...     1.000000     0.625350\n",
              "75%      26.000000     1.768464  ...     1.666678     1.000000\n",
              "max      61.000000     1.980000  ...     3.000000     2.000000\n",
              "\n",
              "[8 rows x 8 columns]"
            ]
          },
          "metadata": {
            "tags": []
          },
          "execution_count": 200
        }
      ]
    },
    {
      "cell_type": "markdown",
      "metadata": {
        "id": "xBVUa2pfSG7j"
      },
      "source": [
        "#### **Descrição Features Categóricas**"
      ]
    },
    {
      "cell_type": "code",
      "metadata": {
        "colab": {
          "base_uri": "https://localhost:8080/",
          "height": 167
        },
        "id": "vxmWIn0xDdYT",
        "outputId": "e113594f-29c0-444d-c7ab-e0266f8a8e7c"
      },
      "source": [
        "df.describe(include=['object'])"
      ],
      "execution_count": null,
      "outputs": [
        {
          "output_type": "execute_result",
          "data": {
            "text/html": [
              "<div>\n",
              "<style scoped>\n",
              "    .dataframe tbody tr th:only-of-type {\n",
              "        vertical-align: middle;\n",
              "    }\n",
              "\n",
              "    .dataframe tbody tr th {\n",
              "        vertical-align: top;\n",
              "    }\n",
              "\n",
              "    .dataframe thead th {\n",
              "        text-align: right;\n",
              "    }\n",
              "</style>\n",
              "<table border=\"1\" class=\"dataframe\">\n",
              "  <thead>\n",
              "    <tr style=\"text-align: right;\">\n",
              "      <th></th>\n",
              "      <th>Gender</th>\n",
              "      <th>family_history_with_overweight</th>\n",
              "      <th>FAVC</th>\n",
              "      <th>CAEC</th>\n",
              "      <th>SMOKE</th>\n",
              "      <th>SCC</th>\n",
              "      <th>CALC</th>\n",
              "      <th>MTRANS</th>\n",
              "      <th>NObeyesdad</th>\n",
              "    </tr>\n",
              "  </thead>\n",
              "  <tbody>\n",
              "    <tr>\n",
              "      <th>count</th>\n",
              "      <td>2111</td>\n",
              "      <td>2111</td>\n",
              "      <td>2111</td>\n",
              "      <td>2111</td>\n",
              "      <td>2111</td>\n",
              "      <td>2111</td>\n",
              "      <td>2111</td>\n",
              "      <td>2111</td>\n",
              "      <td>2111</td>\n",
              "    </tr>\n",
              "    <tr>\n",
              "      <th>unique</th>\n",
              "      <td>2</td>\n",
              "      <td>2</td>\n",
              "      <td>2</td>\n",
              "      <td>4</td>\n",
              "      <td>2</td>\n",
              "      <td>2</td>\n",
              "      <td>4</td>\n",
              "      <td>5</td>\n",
              "      <td>7</td>\n",
              "    </tr>\n",
              "    <tr>\n",
              "      <th>top</th>\n",
              "      <td>Male</td>\n",
              "      <td>yes</td>\n",
              "      <td>yes</td>\n",
              "      <td>Sometimes</td>\n",
              "      <td>no</td>\n",
              "      <td>no</td>\n",
              "      <td>Sometimes</td>\n",
              "      <td>Public_Transportation</td>\n",
              "      <td>Obesity_Type_I</td>\n",
              "    </tr>\n",
              "    <tr>\n",
              "      <th>freq</th>\n",
              "      <td>1068</td>\n",
              "      <td>1726</td>\n",
              "      <td>1866</td>\n",
              "      <td>1765</td>\n",
              "      <td>2067</td>\n",
              "      <td>2015</td>\n",
              "      <td>1401</td>\n",
              "      <td>1580</td>\n",
              "      <td>351</td>\n",
              "    </tr>\n",
              "  </tbody>\n",
              "</table>\n",
              "</div>"
            ],
            "text/plain": [
              "       Gender  ...      NObeyesdad\n",
              "count    2111  ...            2111\n",
              "unique      2  ...               7\n",
              "top      Male  ...  Obesity_Type_I\n",
              "freq     1068  ...             351\n",
              "\n",
              "[4 rows x 9 columns]"
            ]
          },
          "metadata": {
            "tags": []
          },
          "execution_count": 201
        }
      ]
    },
    {
      "cell_type": "markdown",
      "metadata": {
        "id": "LESwD37LSYYu"
      },
      "source": [
        "#### **Verificando valores nulos**"
      ]
    },
    {
      "cell_type": "code",
      "metadata": {
        "colab": {
          "base_uri": "https://localhost:8080/"
        },
        "id": "V91qbV_7D4D2",
        "outputId": "46092899-ef6e-4ae9-d6dc-ca274a059781"
      },
      "source": [
        "np.sum(df.isnull()==True)"
      ],
      "execution_count": null,
      "outputs": [
        {
          "output_type": "execute_result",
          "data": {
            "text/plain": [
              "Gender                            0\n",
              "Age                               0\n",
              "Height                            0\n",
              "Weight                            0\n",
              "family_history_with_overweight    0\n",
              "FAVC                              0\n",
              "FCVC                              0\n",
              "NCP                               0\n",
              "CAEC                              0\n",
              "SMOKE                             0\n",
              "CH2O                              0\n",
              "SCC                               0\n",
              "FAF                               0\n",
              "TUE                               0\n",
              "CALC                              0\n",
              "MTRANS                            0\n",
              "NObeyesdad                        0\n",
              "dtype: int64"
            ]
          },
          "metadata": {
            "tags": []
          },
          "execution_count": 202
        }
      ]
    },
    {
      "cell_type": "markdown",
      "metadata": {
        "id": "8r1UI2e7SRH8"
      },
      "source": [
        "#### **Quantidade de cada classe**"
      ]
    },
    {
      "cell_type": "code",
      "metadata": {
        "colab": {
          "base_uri": "https://localhost:8080/"
        },
        "id": "cMsYlNQ4JT0j",
        "outputId": "1290ed6a-10e7-4e63-f04c-dbba0dc3b12d"
      },
      "source": [
        "df['NObeyesdad'].value_counts()"
      ],
      "execution_count": null,
      "outputs": [
        {
          "output_type": "execute_result",
          "data": {
            "text/plain": [
              "Obesity_Type_I         351\n",
              "Obesity_Type_III       324\n",
              "Obesity_Type_II        297\n",
              "Overweight_Level_II    290\n",
              "Overweight_Level_I     290\n",
              "Normal_Weight          287\n",
              "Insufficient_Weight    272\n",
              "Name: NObeyesdad, dtype: int64"
            ]
          },
          "metadata": {
            "tags": []
          },
          "execution_count": 203
        }
      ]
    },
    {
      "cell_type": "markdown",
      "metadata": {
        "id": "iMSygAO-Seby"
      },
      "source": [
        "#### **Plotando Relação de Nível de Obesidade**"
      ]
    },
    {
      "cell_type": "code",
      "metadata": {
        "id": "5j42UyYPjlC5",
        "colab": {
          "base_uri": "https://localhost:8080/",
          "height": 238
        },
        "outputId": "099cc06b-dfac-4530-8a8e-b05a3acd1830"
      },
      "source": [
        "fig = plt.figure()\n",
        "ax = fig.add_axes([1,0,1,1])\n",
        "langs = df['NObeyesdad'].value_counts().index.tolist()\n",
        "values = list(df['NObeyesdad'].value_counts().to_numpy())\n",
        "plt.rcParams[\"figure.figsize\"] = (20,3)\n",
        "ax.bar(langs,values)\n",
        "plt.show();"
      ],
      "execution_count": null,
      "outputs": [
        {
          "output_type": "display_data",
          "data": {
            "image/png": "[encoded data removed]",
            "text/plain": [
              "<Figure size 1440x216 with 1 Axes>"
            ]
          },
          "metadata": {
            "tags": [],
            "needs_background": "light"
          }
        }
      ]
    },
    {
      "cell_type": "markdown",
      "metadata": {
        "id": "9i8yQLzDNsWJ"
      },
      "source": [
        "\n",
        "\n",
        "*   NObeyesdad: nível de obesidade\n",
        "*   family_history_with_overweight\n",
        "*   FAVC - Frequent consumption of high caloric food \n",
        "*   SMOKE\n",
        "*   SCC - Calories consumption monitoring\n",
        "*   CAEC - Consumption of food between meals\n",
        "*   CALC - Consumption of alcohol\n",
        "*   MTRANS - Transportation used\n",
        "\n"
      ]
    },
    {
      "cell_type": "markdown",
      "metadata": {
        "id": "BjhfdDUXSwu3"
      },
      "source": [
        "#### **Tratando dados Categóricos**"
      ]
    },
    {
      "cell_type": "code",
      "metadata": {
        "id": "M0YCN9iI0ujP",
        "colab": {
          "base_uri": "https://localhost:8080/",
          "height": 426
        },
        "outputId": "310c9980-512b-439d-f339-c15c8b64e621"
      },
      "source": [
        "map_replace = {\n",
        "    'NObeyesdad': {'Insufficient_Weight': 0, 'Normal_Weight': 1, 'Obesity_Type_I': 2, 'Obesity_Type_II': 3, 'Obesity_Type_III': 4, 'Overweight_Level_I': 5, 'Overweight_Level_II': 6},\n",
        "    'family_history_with_overweight': {'yes': 1, 'no': 0},\n",
        "    'FAVC': {'yes': 1, 'no': 0},\n",
        "    'SMOKE': {'yes': 1, 'no': 0},\n",
        "    'SCC': {'yes': 0, 'no': 1},\n",
        "    'CAEC': {'Always': 3, 'Frequently': 2, 'Sometimes': 1, 'no': 0},\n",
        "    'CALC': {'Always': 3, 'Frequently': 2, 'Sometimes': 1, 'no': 0},\n",
        "    'MTRANS': {'Automobile': 4, 'Motorbike': 3, 'Public_Transportation': 2, 'Walking': 1, 'Bike': 0}\n",
        "}\n",
        "df_convertido = df.replace(map_replace)\n",
        "df_convertido"
      ],
      "execution_count": null,
      "outputs": [
        {
          "output_type": "execute_result",
          "data": {
            "text/html": [
              "<div>\n",
              "<style scoped>\n",
              "    .dataframe tbody tr th:only-of-type {\n",
              "        vertical-align: middle;\n",
              "    }\n",
              "\n",
              "    .dataframe tbody tr th {\n",
              "        vertical-align: top;\n",
              "    }\n",
              "\n",
              "    .dataframe thead th {\n",
              "        text-align: right;\n",
              "    }\n",
              "</style>\n",
              "<table border=\"1\" class=\"dataframe\">\n",
              "  <thead>\n",
              "    <tr style=\"text-align: right;\">\n",
              "      <th></th>\n",
              "      <th>Gender</th>\n",
              "      <th>Age</th>\n",
              "      <th>Height</th>\n",
              "      <th>Weight</th>\n",
              "      <th>family_history_with_overweight</th>\n",
              "      <th>FAVC</th>\n",
              "      <th>FCVC</th>\n",
              "      <th>NCP</th>\n",
              "      <th>CAEC</th>\n",
              "      <th>SMOKE</th>\n",
              "      <th>CH2O</th>\n",
              "      <th>SCC</th>\n",
              "      <th>FAF</th>\n",
              "      <th>TUE</th>\n",
              "      <th>CALC</th>\n",
              "      <th>MTRANS</th>\n",
              "      <th>NObeyesdad</th>\n",
              "    </tr>\n",
              "  </thead>\n",
              "  <tbody>\n",
              "    <tr>\n",
              "      <th>0</th>\n",
              "      <td>Female</td>\n",
              "      <td>21.000000</td>\n",
              "      <td>1.620000</td>\n",
              "      <td>64.000000</td>\n",
              "      <td>1</td>\n",
              "      <td>0</td>\n",
              "      <td>2.0</td>\n",
              "      <td>3.0</td>\n",
              "      <td>1</td>\n",
              "      <td>0</td>\n",
              "      <td>2.000000</td>\n",
              "      <td>1</td>\n",
              "      <td>0.000000</td>\n",
              "      <td>1.000000</td>\n",
              "      <td>0</td>\n",
              "      <td>2</td>\n",
              "      <td>1</td>\n",
              "    </tr>\n",
              "    <tr>\n",
              "      <th>1</th>\n",
              "      <td>Female</td>\n",
              "      <td>21.000000</td>\n",
              "      <td>1.520000</td>\n",
              "      <td>56.000000</td>\n",
              "      <td>1</td>\n",
              "      <td>0</td>\n",
              "      <td>3.0</td>\n",
              "      <td>3.0</td>\n",
              "      <td>1</td>\n",
              "      <td>1</td>\n",
              "      <td>3.000000</td>\n",
              "      <td>0</td>\n",
              "      <td>3.000000</td>\n",
              "      <td>0.000000</td>\n",
              "      <td>1</td>\n",
              "      <td>2</td>\n",
              "      <td>1</td>\n",
              "    </tr>\n",
              "    <tr>\n",
              "      <th>2</th>\n",
              "      <td>Male</td>\n",
              "      <td>23.000000</td>\n",
              "      <td>1.800000</td>\n",
              "      <td>77.000000</td>\n",
              "      <td>1</td>\n",
              "      <td>0</td>\n",
              "      <td>2.0</td>\n",
              "      <td>3.0</td>\n",
              "      <td>1</td>\n",
              "      <td>0</td>\n",
              "      <td>2.000000</td>\n",
              "      <td>1</td>\n",
              "      <td>2.000000</td>\n",
              "      <td>1.000000</td>\n",
              "      <td>2</td>\n",
              "      <td>2</td>\n",
              "      <td>1</td>\n",
              "    </tr>\n",
              "    <tr>\n",
              "      <th>3</th>\n",
              "      <td>Male</td>\n",
              "      <td>27.000000</td>\n",
              "      <td>1.800000</td>\n",
              "      <td>87.000000</td>\n",
              "      <td>0</td>\n",
              "      <td>0</td>\n",
              "      <td>3.0</td>\n",
              "      <td>3.0</td>\n",
              "      <td>1</td>\n",
              "      <td>0</td>\n",
              "      <td>2.000000</td>\n",
              "      <td>1</td>\n",
              "      <td>2.000000</td>\n",
              "      <td>0.000000</td>\n",
              "      <td>2</td>\n",
              "      <td>1</td>\n",
              "      <td>5</td>\n",
              "    </tr>\n",
              "    <tr>\n",
              "      <th>4</th>\n",
              "      <td>Male</td>\n",
              "      <td>22.000000</td>\n",
              "      <td>1.780000</td>\n",
              "      <td>89.800000</td>\n",
              "      <td>0</td>\n",
              "      <td>0</td>\n",
              "      <td>2.0</td>\n",
              "      <td>1.0</td>\n",
              "      <td>1</td>\n",
              "      <td>0</td>\n",
              "      <td>2.000000</td>\n",
              "      <td>1</td>\n",
              "      <td>0.000000</td>\n",
              "      <td>0.000000</td>\n",
              "      <td>1</td>\n",
              "      <td>2</td>\n",
              "      <td>6</td>\n",
              "    </tr>\n",
              "    <tr>\n",
              "      <th>...</th>\n",
              "      <td>...</td>\n",
              "      <td>...</td>\n",
              "      <td>...</td>\n",
              "      <td>...</td>\n",
              "      <td>...</td>\n",
              "      <td>...</td>\n",
              "      <td>...</td>\n",
              "      <td>...</td>\n",
              "      <td>...</td>\n",
              "      <td>...</td>\n",
              "      <td>...</td>\n",
              "      <td>...</td>\n",
              "      <td>...</td>\n",
              "      <td>...</td>\n",
              "      <td>...</td>\n",
              "      <td>...</td>\n",
              "      <td>...</td>\n",
              "    </tr>\n",
              "    <tr>\n",
              "      <th>2106</th>\n",
              "      <td>Female</td>\n",
              "      <td>20.976842</td>\n",
              "      <td>1.710730</td>\n",
              "      <td>131.408528</td>\n",
              "      <td>1</td>\n",
              "      <td>1</td>\n",
              "      <td>3.0</td>\n",
              "      <td>3.0</td>\n",
              "      <td>1</td>\n",
              "      <td>0</td>\n",
              "      <td>1.728139</td>\n",
              "      <td>1</td>\n",
              "      <td>1.676269</td>\n",
              "      <td>0.906247</td>\n",
              "      <td>1</td>\n",
              "      <td>2</td>\n",
              "      <td>4</td>\n",
              "    </tr>\n",
              "    <tr>\n",
              "      <th>2107</th>\n",
              "      <td>Female</td>\n",
              "      <td>21.982942</td>\n",
              "      <td>1.748584</td>\n",
              "      <td>133.742943</td>\n",
              "      <td>1</td>\n",
              "      <td>1</td>\n",
              "      <td>3.0</td>\n",
              "      <td>3.0</td>\n",
              "      <td>1</td>\n",
              "      <td>0</td>\n",
              "      <td>2.005130</td>\n",
              "      <td>1</td>\n",
              "      <td>1.341390</td>\n",
              "      <td>0.599270</td>\n",
              "      <td>1</td>\n",
              "      <td>2</td>\n",
              "      <td>4</td>\n",
              "    </tr>\n",
              "    <tr>\n",
              "      <th>2108</th>\n",
              "      <td>Female</td>\n",
              "      <td>22.524036</td>\n",
              "      <td>1.752206</td>\n",
              "      <td>133.689352</td>\n",
              "      <td>1</td>\n",
              "      <td>1</td>\n",
              "      <td>3.0</td>\n",
              "      <td>3.0</td>\n",
              "      <td>1</td>\n",
              "      <td>0</td>\n",
              "      <td>2.054193</td>\n",
              "      <td>1</td>\n",
              "      <td>1.414209</td>\n",
              "      <td>0.646288</td>\n",
              "      <td>1</td>\n",
              "      <td>2</td>\n",
              "      <td>4</td>\n",
              "    </tr>\n",
              "    <tr>\n",
              "      <th>2109</th>\n",
              "      <td>Female</td>\n",
              "      <td>24.361936</td>\n",
              "      <td>1.739450</td>\n",
              "      <td>133.346641</td>\n",
              "      <td>1</td>\n",
              "      <td>1</td>\n",
              "      <td>3.0</td>\n",
              "      <td>3.0</td>\n",
              "      <td>1</td>\n",
              "      <td>0</td>\n",
              "      <td>2.852339</td>\n",
              "      <td>1</td>\n",
              "      <td>1.139107</td>\n",
              "      <td>0.586035</td>\n",
              "      <td>1</td>\n",
              "      <td>2</td>\n",
              "      <td>4</td>\n",
              "    </tr>\n",
              "    <tr>\n",
              "      <th>2110</th>\n",
              "      <td>Female</td>\n",
              "      <td>23.664709</td>\n",
              "      <td>1.738836</td>\n",
              "      <td>133.472641</td>\n",
              "      <td>1</td>\n",
              "      <td>1</td>\n",
              "      <td>3.0</td>\n",
              "      <td>3.0</td>\n",
              "      <td>1</td>\n",
              "      <td>0</td>\n",
              "      <td>2.863513</td>\n",
              "      <td>1</td>\n",
              "      <td>1.026452</td>\n",
              "      <td>0.714137</td>\n",
              "      <td>1</td>\n",
              "      <td>2</td>\n",
              "      <td>4</td>\n",
              "    </tr>\n",
              "  </tbody>\n",
              "</table>\n",
              "<p>2111 rows × 17 columns</p>\n",
              "</div>"
            ],
            "text/plain": [
              "      Gender        Age    Height  ...  CALC  MTRANS  NObeyesdad\n",
              "0     Female  21.000000  1.620000  ...     0       2           1\n",
              "1     Female  21.000000  1.520000  ...     1       2           1\n",
              "2       Male  23.000000  1.800000  ...     2       2           1\n",
              "3       Male  27.000000  1.800000  ...     2       1           5\n",
              "4       Male  22.000000  1.780000  ...     1       2           6\n",
              "...      ...        ...       ...  ...   ...     ...         ...\n",
              "2106  Female  20.976842  1.710730  ...     1       2           4\n",
              "2107  Female  21.982942  1.748584  ...     1       2           4\n",
              "2108  Female  22.524036  1.752206  ...     1       2           4\n",
              "2109  Female  24.361936  1.739450  ...     1       2           4\n",
              "2110  Female  23.664709  1.738836  ...     1       2           4\n",
              "\n",
              "[2111 rows x 17 columns]"
            ]
          },
          "metadata": {
            "tags": []
          },
          "execution_count": 205
        }
      ]
    },
    {
      "cell_type": "code",
      "metadata": {
        "colab": {
          "base_uri": "https://localhost:8080/",
          "height": 426
        },
        "id": "NGLE-Ea8Dwzx",
        "outputId": "f7364110-166c-4230-86d7-48666a322c1f"
      },
      "source": [
        "df_dummy = pd.get_dummies(df_convertido, drop_first=True)\n",
        "df_dummy"
      ],
      "execution_count": null,
      "outputs": [
        {
          "output_type": "execute_result",
          "data": {
            "text/html": [
              "<div>\n",
              "<style scoped>\n",
              "    .dataframe tbody tr th:only-of-type {\n",
              "        vertical-align: middle;\n",
              "    }\n",
              "\n",
              "    .dataframe tbody tr th {\n",
              "        vertical-align: top;\n",
              "    }\n",
              "\n",
              "    .dataframe thead th {\n",
              "        text-align: right;\n",
              "    }\n",
              "</style>\n",
              "<table border=\"1\" class=\"dataframe\">\n",
              "  <thead>\n",
              "    <tr style=\"text-align: right;\">\n",
              "      <th></th>\n",
              "      <th>Age</th>\n",
              "      <th>Height</th>\n",
              "      <th>Weight</th>\n",
              "      <th>family_history_with_overweight</th>\n",
              "      <th>FAVC</th>\n",
              "      <th>FCVC</th>\n",
              "      <th>NCP</th>\n",
              "      <th>CAEC</th>\n",
              "      <th>SMOKE</th>\n",
              "      <th>CH2O</th>\n",
              "      <th>SCC</th>\n",
              "      <th>FAF</th>\n",
              "      <th>TUE</th>\n",
              "      <th>CALC</th>\n",
              "      <th>MTRANS</th>\n",
              "      <th>NObeyesdad</th>\n",
              "      <th>Gender_Male</th>\n",
              "    </tr>\n",
              "  </thead>\n",
              "  <tbody>\n",
              "    <tr>\n",
              "      <th>0</th>\n",
              "      <td>21.000000</td>\n",
              "      <td>1.620000</td>\n",
              "      <td>64.000000</td>\n",
              "      <td>1</td>\n",
              "      <td>0</td>\n",
              "      <td>2.0</td>\n",
              "      <td>3.0</td>\n",
              "      <td>1</td>\n",
              "      <td>0</td>\n",
              "      <td>2.000000</td>\n",
              "      <td>1</td>\n",
              "      <td>0.000000</td>\n",
              "      <td>1.000000</td>\n",
              "      <td>0</td>\n",
              "      <td>2</td>\n",
              "      <td>1</td>\n",
              "      <td>0</td>\n",
              "    </tr>\n",
              "    <tr>\n",
              "      <th>1</th>\n",
              "      <td>21.000000</td>\n",
              "      <td>1.520000</td>\n",
              "      <td>56.000000</td>\n",
              "      <td>1</td>\n",
              "      <td>0</td>\n",
              "      <td>3.0</td>\n",
              "      <td>3.0</td>\n",
              "      <td>1</td>\n",
              "      <td>1</td>\n",
              "      <td>3.000000</td>\n",
              "      <td>0</td>\n",
              "      <td>3.000000</td>\n",
              "      <td>0.000000</td>\n",
              "      <td>1</td>\n",
              "      <td>2</td>\n",
              "      <td>1</td>\n",
              "      <td>0</td>\n",
              "    </tr>\n",
              "    <tr>\n",
              "      <th>2</th>\n",
              "      <td>23.000000</td>\n",
              "      <td>1.800000</td>\n",
              "      <td>77.000000</td>\n",
              "      <td>1</td>\n",
              "      <td>0</td>\n",
              "      <td>2.0</td>\n",
              "      <td>3.0</td>\n",
              "      <td>1</td>\n",
              "      <td>0</td>\n",
              "      <td>2.000000</td>\n",
              "      <td>1</td>\n",
              "      <td>2.000000</td>\n",
              "      <td>1.000000</td>\n",
              "      <td>2</td>\n",
              "      <td>2</td>\n",
              "      <td>1</td>\n",
              "      <td>1</td>\n",
              "    </tr>\n",
              "    <tr>\n",
              "      <th>3</th>\n",
              "      <td>27.000000</td>\n",
              "      <td>1.800000</td>\n",
              "      <td>87.000000</td>\n",
              "      <td>0</td>\n",
              "      <td>0</td>\n",
              "      <td>3.0</td>\n",
              "      <td>3.0</td>\n",
              "      <td>1</td>\n",
              "      <td>0</td>\n",
              "      <td>2.000000</td>\n",
              "      <td>1</td>\n",
              "      <td>2.000000</td>\n",
              "      <td>0.000000</td>\n",
              "      <td>2</td>\n",
              "      <td>1</td>\n",
              "      <td>5</td>\n",
              "      <td>1</td>\n",
              "    </tr>\n",
              "    <tr>\n",
              "      <th>4</th>\n",
              "      <td>22.000000</td>\n",
              "      <td>1.780000</td>\n",
              "      <td>89.800000</td>\n",
              "      <td>0</td>\n",
              "      <td>0</td>\n",
              "      <td>2.0</td>\n",
              "      <td>1.0</td>\n",
              "      <td>1</td>\n",
              "      <td>0</td>\n",
              "      <td>2.000000</td>\n",
              "      <td>1</td>\n",
              "      <td>0.000000</td>\n",
              "      <td>0.000000</td>\n",
              "      <td>1</td>\n",
              "      <td>2</td>\n",
              "      <td>6</td>\n",
              "      <td>1</td>\n",
              "    </tr>\n",
              "    <tr>\n",
              "      <th>...</th>\n",
              "      <td>...</td>\n",
              "      <td>...</td>\n",
              "      <td>...</td>\n",
              "      <td>...</td>\n",
              "      <td>...</td>\n",
              "      <td>...</td>\n",
              "      <td>...</td>\n",
              "      <td>...</td>\n",
              "      <td>...</td>\n",
              "      <td>...</td>\n",
              "      <td>...</td>\n",
              "      <td>...</td>\n",
              "      <td>...</td>\n",
              "      <td>...</td>\n",
              "      <td>...</td>\n",
              "      <td>...</td>\n",
              "      <td>...</td>\n",
              "    </tr>\n",
              "    <tr>\n",
              "      <th>2106</th>\n",
              "      <td>20.976842</td>\n",
              "      <td>1.710730</td>\n",
              "      <td>131.408528</td>\n",
              "      <td>1</td>\n",
              "      <td>1</td>\n",
              "      <td>3.0</td>\n",
              "      <td>3.0</td>\n",
              "      <td>1</td>\n",
              "      <td>0</td>\n",
              "      <td>1.728139</td>\n",
              "      <td>1</td>\n",
              "      <td>1.676269</td>\n",
              "      <td>0.906247</td>\n",
              "      <td>1</td>\n",
              "      <td>2</td>\n",
              "      <td>4</td>\n",
              "      <td>0</td>\n",
              "    </tr>\n",
              "    <tr>\n",
              "      <th>2107</th>\n",
              "      <td>21.982942</td>\n",
              "      <td>1.748584</td>\n",
              "      <td>133.742943</td>\n",
              "      <td>1</td>\n",
              "      <td>1</td>\n",
              "      <td>3.0</td>\n",
              "      <td>3.0</td>\n",
              "      <td>1</td>\n",
              "      <td>0</td>\n",
              "      <td>2.005130</td>\n",
              "      <td>1</td>\n",
              "      <td>1.341390</td>\n",
              "      <td>0.599270</td>\n",
              "      <td>1</td>\n",
              "      <td>2</td>\n",
              "      <td>4</td>\n",
              "      <td>0</td>\n",
              "    </tr>\n",
              "    <tr>\n",
              "      <th>2108</th>\n",
              "      <td>22.524036</td>\n",
              "      <td>1.752206</td>\n",
              "      <td>133.689352</td>\n",
              "      <td>1</td>\n",
              "      <td>1</td>\n",
              "      <td>3.0</td>\n",
              "      <td>3.0</td>\n",
              "      <td>1</td>\n",
              "      <td>0</td>\n",
              "      <td>2.054193</td>\n",
              "      <td>1</td>\n",
              "      <td>1.414209</td>\n",
              "      <td>0.646288</td>\n",
              "      <td>1</td>\n",
              "      <td>2</td>\n",
              "      <td>4</td>\n",
              "      <td>0</td>\n",
              "    </tr>\n",
              "    <tr>\n",
              "      <th>2109</th>\n",
              "      <td>24.361936</td>\n",
              "      <td>1.739450</td>\n",
              "      <td>133.346641</td>\n",
              "      <td>1</td>\n",
              "      <td>1</td>\n",
              "      <td>3.0</td>\n",
              "      <td>3.0</td>\n",
              "      <td>1</td>\n",
              "      <td>0</td>\n",
              "      <td>2.852339</td>\n",
              "      <td>1</td>\n",
              "      <td>1.139107</td>\n",
              "      <td>0.586035</td>\n",
              "      <td>1</td>\n",
              "      <td>2</td>\n",
              "      <td>4</td>\n",
              "      <td>0</td>\n",
              "    </tr>\n",
              "    <tr>\n",
              "      <th>2110</th>\n",
              "      <td>23.664709</td>\n",
              "      <td>1.738836</td>\n",
              "      <td>133.472641</td>\n",
              "      <td>1</td>\n",
              "      <td>1</td>\n",
              "      <td>3.0</td>\n",
              "      <td>3.0</td>\n",
              "      <td>1</td>\n",
              "      <td>0</td>\n",
              "      <td>2.863513</td>\n",
              "      <td>1</td>\n",
              "      <td>1.026452</td>\n",
              "      <td>0.714137</td>\n",
              "      <td>1</td>\n",
              "      <td>2</td>\n",
              "      <td>4</td>\n",
              "      <td>0</td>\n",
              "    </tr>\n",
              "  </tbody>\n",
              "</table>\n",
              "<p>2111 rows × 17 columns</p>\n",
              "</div>"
            ],
            "text/plain": [
              "            Age    Height      Weight  ...  MTRANS  NObeyesdad  Gender_Male\n",
              "0     21.000000  1.620000   64.000000  ...       2           1            0\n",
              "1     21.000000  1.520000   56.000000  ...       2           1            0\n",
              "2     23.000000  1.800000   77.000000  ...       2           1            1\n",
              "3     27.000000  1.800000   87.000000  ...       1           5            1\n",
              "4     22.000000  1.780000   89.800000  ...       2           6            1\n",
              "...         ...       ...         ...  ...     ...         ...          ...\n",
              "2106  20.976842  1.710730  131.408528  ...       2           4            0\n",
              "2107  21.982942  1.748584  133.742943  ...       2           4            0\n",
              "2108  22.524036  1.752206  133.689352  ...       2           4            0\n",
              "2109  24.361936  1.739450  133.346641  ...       2           4            0\n",
              "2110  23.664709  1.738836  133.472641  ...       2           4            0\n",
              "\n",
              "[2111 rows x 17 columns]"
            ]
          },
          "metadata": {
            "tags": []
          },
          "execution_count": 206
        }
      ]
    },
    {
      "cell_type": "code",
      "metadata": {
        "id": "Lqpyan5Hj4_N"
      },
      "source": [
        "X = df_dummy.drop(columns=['NObeyesdad']).to_numpy()\n",
        "y = df_dummy['NObeyesdad'].to_numpy()"
      ],
      "execution_count": null,
      "outputs": []
    },
    {
      "cell_type": "code",
      "metadata": {
        "id": "cVDe8_23kFHN"
      },
      "source": [
        "X_train, X_test, y_train, y_test = train_test_split(X, y, test_size=0.25, random_state=43, stratify=y)"
      ],
      "execution_count": null,
      "outputs": []
    },
    {
      "cell_type": "markdown",
      "metadata": {
        "id": "7I0x_836kT7-"
      },
      "source": [
        "#### **Escalonando dados (Padronização)**"
      ]
    },
    {
      "cell_type": "code",
      "metadata": {
        "id": "hVkHFNUmkLqG"
      },
      "source": [
        "std_scale = preprocessing.StandardScaler()\n",
        "# O escalonamento é feito apenas numéricos e categóricos que possuem relação entre si \n",
        "n_numeric = 15\n",
        "X_train_numeric_std = std_scale.fit_transform(X_train[:,0:n_numeric])\n",
        "X_train_std = pd.concat([pd.DataFrame(X_train_numeric_std), pd.DataFrame(X_train[:,n_numeric:-1])], axis=1, join=\"inner\").to_numpy()\n",
        "\n",
        "X_test_numeric_std = std_scale.transform(X_test[:,0:n_numeric])\n",
        "X_test_std = pd.concat([pd.DataFrame(X_test_numeric_std), pd.DataFrame(X_test[:,n_numeric:-1])], axis=1, join=\"inner\").to_numpy()"
      ],
      "execution_count": null,
      "outputs": []
    },
    {
      "cell_type": "markdown",
      "metadata": {
        "id": "dtKxyqBHkZ2L"
      },
      "source": [
        "#### **Escalonando dados (Normalizando)**"
      ]
    },
    {
      "cell_type": "code",
      "metadata": {
        "id": "QNif_NR2keud"
      },
      "source": [
        "minmax_scale = preprocessing.MinMaxScaler()\n",
        "\n",
        "X_train_numeric_minmax = minmax_scale.fit_transform(X_train[:, 0:n_numeric])\n",
        "X_train_minmax = pd.concat([pd.DataFrame(X_train_numeric_minmax), pd.DataFrame(X_train[:,n_numeric:-1])], axis=1, join=\"inner\").to_numpy()\n",
        "\n",
        "X_test_numeric_minmax = minmax_scale.transform(X_test[: , 0:n_numeric])\n",
        "X_test_minmax = pd.concat([pd.DataFrame(X_test_numeric_minmax), pd.DataFrame(X_test[:,n_numeric:-1])], axis=1, join=\"inner\").to_numpy()"
      ],
      "execution_count": null,
      "outputs": []
    },
    {
      "cell_type": "markdown",
      "metadata": {
        "id": "zc_vYLQYvF-p"
      },
      "source": [
        "#### **Calculo dos Resultados**"
      ]
    },
    {
      "cell_type": "code",
      "metadata": {
        "id": "9P6gVyH9vFBK"
      },
      "source": [
        "scalers = ['no scaler', 'minmax', 'std']\n",
        "n_neighbors = 6\n",
        "neighbors = np.arange(1, n_neighbors)\n",
        "results_test = []\n",
        "results_train = []\n",
        "resultsNewCompTest = []\n",
        "\n",
        "for scaler in scalers:\n",
        "    if scaler == 'minmax':\n",
        "        X_train_, X_test_ = X_train_minmax, X_test_minmax\n",
        "    elif scaler == 'std':\n",
        "        X_train_, X_test_ = X_train_std, X_test_std             \n",
        "    else:\n",
        "        X_train_, X_test_ = X_train, X_test\n",
        "\n",
        "    # RandomForestClassifier\n",
        "    clf = RandomForestClassifier(n_estimators=150, random_state=42)\n",
        "    clf.fit(X_train_, y_train)\n",
        "    y_pred=clf.predict(X_test_)\n",
        "    acuraciaRfTest = metrics.accuracy_score(y_test, y_pred)\n",
        "    precisaoRfTest = metrics.precision_score(y_test, y_pred, average='weighted', zero_division=0)\n",
        "    recallRfTest =  metrics.recall_score(y_test, y_pred, average='weighted', zero_division=0)\n",
        "    f1RfTest = metrics.f1_score(y_test, y_pred, average='weighted', zero_division=0)\n",
        "    result = { 'model': 'RandomForestClassifier', 'Scaler': scaler, 'Acuracia': acuraciaRfTest, 'Precision': precisaoRfTest, 'Recall': recallRfTest, 'F1-Score': f1RfTest}\n",
        "    resultsNewCompTest.append(result)\n",
        "\n",
        "    # GradientBoostingClassifier\n",
        "    clf = GradientBoostingClassifier(n_estimators=150, random_state=43).fit(X_train_, y_train)\n",
        "    y_pred=clf.predict(X_test_)\n",
        "    acuraciaGbTest = metrics.accuracy_score(y_test, y_pred)\n",
        "    precisaoGbTest = metrics.precision_score(y_test, y_pred, average='weighted', zero_division=0)\n",
        "    recallGbTest =  metrics.recall_score(y_test, y_pred, average='weighted', zero_division=0)\n",
        "    f1GbTest = metrics.f1_score(y_test, y_pred, average='weighted', zero_division=0)\n",
        "    result = { 'model': 'GradientBoosting', 'Scaler': scaler, 'Acuracia': acuraciaGbTest, 'Precision': precisaoGbTest, 'Recall': recallGbTest, 'F1-Score': f1GbTest}\n",
        "    resultsNewCompTest.append(result)\n",
        "\n",
        "    # SVC\n",
        "    clf = svm.SVC(random_state=43)\n",
        "    clf.fit(X_train_, y_train)\n",
        "    y_pred=clf.predict(X_test_)\n",
        "    acuraciaTest = metrics.accuracy_score(y_test, y_pred)\n",
        "    precisaoTest = metrics.precision_score(y_test, y_pred, average='weighted', zero_division=0)\n",
        "    recallTest =  metrics.recall_score(y_test, y_pred, average='weighted', zero_division=0)\n",
        "    f1Test = metrics.f1_score(y_test, y_pred, average='weighted', zero_division=0)\n",
        "    result = { 'model': 'SVC', 'Scaler': scaler, 'Acuracia': acuraciaTest, 'Precision': precisaoTest, 'Recall': recallTest, 'F1-Score': f1Test}\n",
        "    resultsNewCompTest.append(result)\n",
        "    \n",
        "    # GaussianNB\n",
        "    gnb = GaussianNB()\n",
        "    y_pred = gnb.fit(X_train_, y_train).predict(X_test_)\n",
        "    acuraciaTest = metrics.accuracy_score(y_test, y_pred)\n",
        "    precisaoTest = metrics.precision_score(y_test, y_pred, average='weighted', zero_division=0)\n",
        "    recallTest =  metrics.recall_score(y_test, y_pred, average='weighted', zero_division=0)\n",
        "    f1Test = metrics.f1_score(y_test, y_pred, average='weighted', zero_division=0)\n",
        "    result = { 'model': 'NaivesBayes', 'Scaler': scaler, 'Acuracia': acuraciaTest, 'Precision': precisaoTest, 'Recall': recallTest, 'F1-Score': f1Test}\n",
        "    resultsNewCompTest.append(result)\n",
        "\n",
        "    # kNN\n",
        "    for i, k in enumerate(neighbors):\n",
        "        knn = KNeighborsClassifier(n_neighbors=k)    \n",
        "        knn.fit(X_train_, y_train) \n",
        "        # Predizendo o conjunto de TREINO para vários K\n",
        "        y_pred_train = knn.predict(X_train_)\n",
        "        acuracia = metrics.accuracy_score(y_train, y_pred_train)\n",
        "        precision = metrics.precision_score(y_train, y_pred_train, average='weighted', zero_division=0)\n",
        "        recall = metrics.recall_score(y_train, y_pred_train, average='weighted', zero_division=0)\n",
        "        f1_score = metrics.f1_score(y_train, y_pred_train, average='weighted', zero_division=0)\n",
        "        result_train = { 'model': f'kNN (k={k})', 'scaler': scaler, 'Acuracia': acuracia, 'Precision': precision, 'Recall': recall, 'F1-Score': f1_score}\n",
        "        results_train.append(result_train)\n",
        "        # Predizendo o conjunto de TESTE para vários K\n",
        "        y_pred_test = knn.predict(X_test_)\n",
        "        acuracia = metrics.accuracy_score(y_test, y_pred_test)\n",
        "        precision = metrics.precision_score(y_test, y_pred_test, average='weighted', zero_division=0)\n",
        "        recall = metrics.recall_score(y_test, y_pred_test, average='weighted', zero_division=0)\n",
        "        f1_score = metrics.f1_score(y_test, y_pred_test, average='weighted', zero_division=0)\n",
        "        result_test = { 'model': f'kNN (k={k})', 'scaler': scaler, 'Acuracia': acuracia, 'Precision': precision, 'Recall': recall, 'F1-Score': f1_score}\n",
        "        results_test.append(result_test)"
      ],
      "execution_count": null,
      "outputs": []
    },
    {
      "cell_type": "markdown",
      "metadata": {
        "id": "xKIIDWn7TKeG"
      },
      "source": [
        "#### **Motrando valores para diferentes k e escalonamento (conjunto de teste)**"
      ]
    },
    {
      "cell_type": "code",
      "metadata": {
        "id": "q1JkQjoy8k97",
        "colab": {
          "base_uri": "https://localhost:8080/",
          "height": 497
        },
        "outputId": "39b23481-e376-41f5-813c-b09986151415"
      },
      "source": [
        "df_results_test = pd.DataFrame(results_test)\n",
        "df_results_test.sort_values(by='Acuracia', ascending=False)"
      ],
      "execution_count": null,
      "outputs": [
        {
          "output_type": "execute_result",
          "data": {
            "text/html": [
              "<div>\n",
              "<style scoped>\n",
              "    .dataframe tbody tr th:only-of-type {\n",
              "        vertical-align: middle;\n",
              "    }\n",
              "\n",
              "    .dataframe tbody tr th {\n",
              "        vertical-align: top;\n",
              "    }\n",
              "\n",
              "    .dataframe thead th {\n",
              "        text-align: right;\n",
              "    }\n",
              "</style>\n",
              "<table border=\"1\" class=\"dataframe\">\n",
              "  <thead>\n",
              "    <tr style=\"text-align: right;\">\n",
              "      <th></th>\n",
              "      <th>model</th>\n",
              "      <th>scaler</th>\n",
              "      <th>Acuracia</th>\n",
              "      <th>Precision</th>\n",
              "      <th>Recall</th>\n",
              "      <th>F1-Score</th>\n",
              "    </tr>\n",
              "  </thead>\n",
              "  <tbody>\n",
              "    <tr>\n",
              "      <th>0</th>\n",
              "      <td>kNN (k=1)</td>\n",
              "      <td>no scaler</td>\n",
              "      <td>0.912879</td>\n",
              "      <td>0.917861</td>\n",
              "      <td>0.912879</td>\n",
              "      <td>0.907466</td>\n",
              "    </tr>\n",
              "    <tr>\n",
              "      <th>1</th>\n",
              "      <td>kNN (k=2)</td>\n",
              "      <td>no scaler</td>\n",
              "      <td>0.882576</td>\n",
              "      <td>0.886390</td>\n",
              "      <td>0.882576</td>\n",
              "      <td>0.874952</td>\n",
              "    </tr>\n",
              "    <tr>\n",
              "      <th>2</th>\n",
              "      <td>kNN (k=3)</td>\n",
              "      <td>no scaler</td>\n",
              "      <td>0.875000</td>\n",
              "      <td>0.874428</td>\n",
              "      <td>0.875000</td>\n",
              "      <td>0.865276</td>\n",
              "    </tr>\n",
              "    <tr>\n",
              "      <th>3</th>\n",
              "      <td>kNN (k=4)</td>\n",
              "      <td>no scaler</td>\n",
              "      <td>0.873106</td>\n",
              "      <td>0.873995</td>\n",
              "      <td>0.873106</td>\n",
              "      <td>0.863946</td>\n",
              "    </tr>\n",
              "    <tr>\n",
              "      <th>4</th>\n",
              "      <td>kNN (k=5)</td>\n",
              "      <td>no scaler</td>\n",
              "      <td>0.861742</td>\n",
              "      <td>0.859552</td>\n",
              "      <td>0.861742</td>\n",
              "      <td>0.851002</td>\n",
              "    </tr>\n",
              "    <tr>\n",
              "      <th>12</th>\n",
              "      <td>kNN (k=3)</td>\n",
              "      <td>std</td>\n",
              "      <td>0.850379</td>\n",
              "      <td>0.855188</td>\n",
              "      <td>0.850379</td>\n",
              "      <td>0.846706</td>\n",
              "    </tr>\n",
              "    <tr>\n",
              "      <th>10</th>\n",
              "      <td>kNN (k=1)</td>\n",
              "      <td>std</td>\n",
              "      <td>0.848485</td>\n",
              "      <td>0.849646</td>\n",
              "      <td>0.848485</td>\n",
              "      <td>0.839909</td>\n",
              "    </tr>\n",
              "    <tr>\n",
              "      <th>11</th>\n",
              "      <td>kNN (k=2)</td>\n",
              "      <td>std</td>\n",
              "      <td>0.827652</td>\n",
              "      <td>0.831977</td>\n",
              "      <td>0.827652</td>\n",
              "      <td>0.822206</td>\n",
              "    </tr>\n",
              "    <tr>\n",
              "      <th>13</th>\n",
              "      <td>kNN (k=4)</td>\n",
              "      <td>std</td>\n",
              "      <td>0.825758</td>\n",
              "      <td>0.832061</td>\n",
              "      <td>0.825758</td>\n",
              "      <td>0.818953</td>\n",
              "    </tr>\n",
              "    <tr>\n",
              "      <th>14</th>\n",
              "      <td>kNN (k=5)</td>\n",
              "      <td>std</td>\n",
              "      <td>0.816288</td>\n",
              "      <td>0.821182</td>\n",
              "      <td>0.816288</td>\n",
              "      <td>0.809121</td>\n",
              "    </tr>\n",
              "    <tr>\n",
              "      <th>5</th>\n",
              "      <td>kNN (k=1)</td>\n",
              "      <td>minmax</td>\n",
              "      <td>0.810606</td>\n",
              "      <td>0.805317</td>\n",
              "      <td>0.810606</td>\n",
              "      <td>0.801848</td>\n",
              "    </tr>\n",
              "    <tr>\n",
              "      <th>9</th>\n",
              "      <td>kNN (k=5)</td>\n",
              "      <td>minmax</td>\n",
              "      <td>0.778409</td>\n",
              "      <td>0.786353</td>\n",
              "      <td>0.778409</td>\n",
              "      <td>0.769333</td>\n",
              "    </tr>\n",
              "    <tr>\n",
              "      <th>8</th>\n",
              "      <td>kNN (k=4)</td>\n",
              "      <td>minmax</td>\n",
              "      <td>0.772727</td>\n",
              "      <td>0.775913</td>\n",
              "      <td>0.772727</td>\n",
              "      <td>0.762822</td>\n",
              "    </tr>\n",
              "    <tr>\n",
              "      <th>7</th>\n",
              "      <td>kNN (k=3)</td>\n",
              "      <td>minmax</td>\n",
              "      <td>0.768939</td>\n",
              "      <td>0.768685</td>\n",
              "      <td>0.768939</td>\n",
              "      <td>0.759843</td>\n",
              "    </tr>\n",
              "    <tr>\n",
              "      <th>6</th>\n",
              "      <td>kNN (k=2)</td>\n",
              "      <td>minmax</td>\n",
              "      <td>0.759470</td>\n",
              "      <td>0.764881</td>\n",
              "      <td>0.759470</td>\n",
              "      <td>0.750926</td>\n",
              "    </tr>\n",
              "  </tbody>\n",
              "</table>\n",
              "</div>"
            ],
            "text/plain": [
              "        model     scaler  Acuracia  Precision    Recall  F1-Score\n",
              "0   kNN (k=1)  no scaler  0.912879   0.917861  0.912879  0.907466\n",
              "1   kNN (k=2)  no scaler  0.882576   0.886390  0.882576  0.874952\n",
              "2   kNN (k=3)  no scaler  0.875000   0.874428  0.875000  0.865276\n",
              "3   kNN (k=4)  no scaler  0.873106   0.873995  0.873106  0.863946\n",
              "4   kNN (k=5)  no scaler  0.861742   0.859552  0.861742  0.851002\n",
              "12  kNN (k=3)        std  0.850379   0.855188  0.850379  0.846706\n",
              "10  kNN (k=1)        std  0.848485   0.849646  0.848485  0.839909\n",
              "11  kNN (k=2)        std  0.827652   0.831977  0.827652  0.822206\n",
              "13  kNN (k=4)        std  0.825758   0.832061  0.825758  0.818953\n",
              "14  kNN (k=5)        std  0.816288   0.821182  0.816288  0.809121\n",
              "5   kNN (k=1)     minmax  0.810606   0.805317  0.810606  0.801848\n",
              "9   kNN (k=5)     minmax  0.778409   0.786353  0.778409  0.769333\n",
              "8   kNN (k=4)     minmax  0.772727   0.775913  0.772727  0.762822\n",
              "7   kNN (k=3)     minmax  0.768939   0.768685  0.768939  0.759843\n",
              "6   kNN (k=2)     minmax  0.759470   0.764881  0.759470  0.750926"
            ]
          },
          "metadata": {
            "tags": []
          },
          "execution_count": 212
        }
      ]
    },
    {
      "cell_type": "markdown",
      "metadata": {
        "id": "6uGMU0osUYiS"
      },
      "source": [
        "#### **Motrando valores para diferentes k e escalonamento (conjunto de Treino)**"
      ]
    },
    {
      "cell_type": "code",
      "metadata": {
        "id": "IMaTJ5d-dPtq",
        "colab": {
          "base_uri": "https://localhost:8080/",
          "height": 497
        },
        "outputId": "ba414e2e-e2b1-401a-e81f-213d7cad6f5b"
      },
      "source": [
        "df_results_train = pd.DataFrame(results_train)\n",
        "df_results_train.sort_values(by='Acuracia', ascending=False)"
      ],
      "execution_count": null,
      "outputs": [
        {
          "output_type": "execute_result",
          "data": {
            "text/html": [
              "<div>\n",
              "<style scoped>\n",
              "    .dataframe tbody tr th:only-of-type {\n",
              "        vertical-align: middle;\n",
              "    }\n",
              "\n",
              "    .dataframe tbody tr th {\n",
              "        vertical-align: top;\n",
              "    }\n",
              "\n",
              "    .dataframe thead th {\n",
              "        text-align: right;\n",
              "    }\n",
              "</style>\n",
              "<table border=\"1\" class=\"dataframe\">\n",
              "  <thead>\n",
              "    <tr style=\"text-align: right;\">\n",
              "      <th></th>\n",
              "      <th>model</th>\n",
              "      <th>scaler</th>\n",
              "      <th>Acuracia</th>\n",
              "      <th>Precision</th>\n",
              "      <th>Recall</th>\n",
              "      <th>F1-Score</th>\n",
              "    </tr>\n",
              "  </thead>\n",
              "  <tbody>\n",
              "    <tr>\n",
              "      <th>0</th>\n",
              "      <td>kNN (k=1)</td>\n",
              "      <td>no scaler</td>\n",
              "      <td>1.000000</td>\n",
              "      <td>1.000000</td>\n",
              "      <td>1.000000</td>\n",
              "      <td>1.000000</td>\n",
              "    </tr>\n",
              "    <tr>\n",
              "      <th>5</th>\n",
              "      <td>kNN (k=1)</td>\n",
              "      <td>minmax</td>\n",
              "      <td>1.000000</td>\n",
              "      <td>1.000000</td>\n",
              "      <td>1.000000</td>\n",
              "      <td>1.000000</td>\n",
              "    </tr>\n",
              "    <tr>\n",
              "      <th>10</th>\n",
              "      <td>kNN (k=1)</td>\n",
              "      <td>std</td>\n",
              "      <td>1.000000</td>\n",
              "      <td>1.000000</td>\n",
              "      <td>1.000000</td>\n",
              "      <td>1.000000</td>\n",
              "    </tr>\n",
              "    <tr>\n",
              "      <th>1</th>\n",
              "      <td>kNN (k=2)</td>\n",
              "      <td>no scaler</td>\n",
              "      <td>0.958939</td>\n",
              "      <td>0.960875</td>\n",
              "      <td>0.958939</td>\n",
              "      <td>0.958811</td>\n",
              "    </tr>\n",
              "    <tr>\n",
              "      <th>2</th>\n",
              "      <td>kNN (k=3)</td>\n",
              "      <td>no scaler</td>\n",
              "      <td>0.940619</td>\n",
              "      <td>0.942402</td>\n",
              "      <td>0.940619</td>\n",
              "      <td>0.939251</td>\n",
              "    </tr>\n",
              "    <tr>\n",
              "      <th>11</th>\n",
              "      <td>kNN (k=2)</td>\n",
              "      <td>std</td>\n",
              "      <td>0.917246</td>\n",
              "      <td>0.923392</td>\n",
              "      <td>0.917246</td>\n",
              "      <td>0.916563</td>\n",
              "    </tr>\n",
              "    <tr>\n",
              "      <th>3</th>\n",
              "      <td>kNN (k=4)</td>\n",
              "      <td>no scaler</td>\n",
              "      <td>0.915982</td>\n",
              "      <td>0.919658</td>\n",
              "      <td>0.915982</td>\n",
              "      <td>0.912908</td>\n",
              "    </tr>\n",
              "    <tr>\n",
              "      <th>4</th>\n",
              "      <td>kNN (k=5)</td>\n",
              "      <td>no scaler</td>\n",
              "      <td>0.909033</td>\n",
              "      <td>0.911658</td>\n",
              "      <td>0.909033</td>\n",
              "      <td>0.905818</td>\n",
              "    </tr>\n",
              "    <tr>\n",
              "      <th>6</th>\n",
              "      <td>kNN (k=2)</td>\n",
              "      <td>minmax</td>\n",
              "      <td>0.894504</td>\n",
              "      <td>0.904439</td>\n",
              "      <td>0.894504</td>\n",
              "      <td>0.893764</td>\n",
              "    </tr>\n",
              "    <tr>\n",
              "      <th>12</th>\n",
              "      <td>kNN (k=3)</td>\n",
              "      <td>std</td>\n",
              "      <td>0.892609</td>\n",
              "      <td>0.893547</td>\n",
              "      <td>0.892609</td>\n",
              "      <td>0.890637</td>\n",
              "    </tr>\n",
              "    <tr>\n",
              "      <th>7</th>\n",
              "      <td>kNN (k=3)</td>\n",
              "      <td>minmax</td>\n",
              "      <td>0.877448</td>\n",
              "      <td>0.878861</td>\n",
              "      <td>0.877448</td>\n",
              "      <td>0.875082</td>\n",
              "    </tr>\n",
              "    <tr>\n",
              "      <th>13</th>\n",
              "      <td>kNN (k=4)</td>\n",
              "      <td>std</td>\n",
              "      <td>0.871131</td>\n",
              "      <td>0.870912</td>\n",
              "      <td>0.871131</td>\n",
              "      <td>0.867903</td>\n",
              "    </tr>\n",
              "    <tr>\n",
              "      <th>14</th>\n",
              "      <td>kNN (k=5)</td>\n",
              "      <td>std</td>\n",
              "      <td>0.855338</td>\n",
              "      <td>0.853529</td>\n",
              "      <td>0.855338</td>\n",
              "      <td>0.851180</td>\n",
              "    </tr>\n",
              "    <tr>\n",
              "      <th>8</th>\n",
              "      <td>kNN (k=4)</td>\n",
              "      <td>minmax</td>\n",
              "      <td>0.851548</td>\n",
              "      <td>0.852700</td>\n",
              "      <td>0.851548</td>\n",
              "      <td>0.847427</td>\n",
              "    </tr>\n",
              "    <tr>\n",
              "      <th>9</th>\n",
              "      <td>kNN (k=5)</td>\n",
              "      <td>minmax</td>\n",
              "      <td>0.830069</td>\n",
              "      <td>0.830039</td>\n",
              "      <td>0.830069</td>\n",
              "      <td>0.824076</td>\n",
              "    </tr>\n",
              "  </tbody>\n",
              "</table>\n",
              "</div>"
            ],
            "text/plain": [
              "        model     scaler  Acuracia  Precision    Recall  F1-Score\n",
              "0   kNN (k=1)  no scaler  1.000000   1.000000  1.000000  1.000000\n",
              "5   kNN (k=1)     minmax  1.000000   1.000000  1.000000  1.000000\n",
              "10  kNN (k=1)        std  1.000000   1.000000  1.000000  1.000000\n",
              "1   kNN (k=2)  no scaler  0.958939   0.960875  0.958939  0.958811\n",
              "2   kNN (k=3)  no scaler  0.940619   0.942402  0.940619  0.939251\n",
              "11  kNN (k=2)        std  0.917246   0.923392  0.917246  0.916563\n",
              "3   kNN (k=4)  no scaler  0.915982   0.919658  0.915982  0.912908\n",
              "4   kNN (k=5)  no scaler  0.909033   0.911658  0.909033  0.905818\n",
              "6   kNN (k=2)     minmax  0.894504   0.904439  0.894504  0.893764\n",
              "12  kNN (k=3)        std  0.892609   0.893547  0.892609  0.890637\n",
              "7   kNN (k=3)     minmax  0.877448   0.878861  0.877448  0.875082\n",
              "13  kNN (k=4)        std  0.871131   0.870912  0.871131  0.867903\n",
              "14  kNN (k=5)        std  0.855338   0.853529  0.855338  0.851180\n",
              "8   kNN (k=4)     minmax  0.851548   0.852700  0.851548  0.847427\n",
              "9   kNN (k=5)     minmax  0.830069   0.830039  0.830069  0.824076"
            ]
          },
          "metadata": {
            "tags": []
          },
          "execution_count": 213
        }
      ]
    },
    {
      "cell_type": "code",
      "metadata": {
        "id": "klxEqCZSNxWx",
        "colab": {
          "base_uri": "https://localhost:8080/",
          "height": 335
        },
        "outputId": "440bfc1f-0974-4b14-b6d7-ccfe17c92240"
      },
      "source": [
        "train_accuracy = df_results_train[df_results_train['scaler'] == 'no scaler']['Acuracia'].to_numpy()\n",
        "train_precision = df_results_train[df_results_train['scaler'] == 'no scaler']['Precision'].to_numpy()\n",
        "train_recall = df_results_train[df_results_train['scaler'] == 'no scaler']['Recall'].to_numpy()\n",
        "train_f1_score = df_results_train[df_results_train['scaler'] == 'no scaler']['F1-Score'].to_numpy()\n",
        "\n",
        "test_accuracy = df_results_test[df_results_test['scaler'] == 'no scaler']['Acuracia'].to_numpy()\n",
        "test_precision = df_results_test[df_results_test['scaler'] == 'no scaler']['Precision'].to_numpy()\n",
        "test_recall = df_results_test[df_results_test['scaler'] == 'no scaler']['Recall'].to_numpy()\n",
        "test_f1_score = df_results_test[df_results_test['scaler'] == 'no scaler']['F1-Score'].to_numpy()\n",
        "\n",
        "fig, (ax1, ax2) = plt.subplots(1, 2, figsize=(13, 5))\n",
        "ax2.set_title('Métricas - Conjunto de Treino')\n",
        "ax2.plot(neighbors, train_accuracy, label = 'Train Accuracy')\n",
        "ax2.plot(neighbors, train_precision, label = 'Train Precision')\n",
        "ax2.plot(neighbors, train_recall, label = 'Train Recall')\n",
        "ax2.plot(neighbors, train_f1_score, label = 'Train F1-SCORE');\n",
        "ax2.legend();\n",
        "\n",
        "ax1.set_title('Métricas - Conjunto de Teste')\n",
        "ax1.plot(neighbors, test_accuracy, label = 'Testing Accuracy')\n",
        "ax1.plot(neighbors, test_precision, label = 'Testing Precision')\n",
        "ax1.plot(neighbors, test_recall, label = 'Testing Recall')\n",
        "ax1.plot(neighbors, test_f1_score, label = 'Testing F1-SCORE');\n",
        "ax1.legend();"
      ],
      "execution_count": null,
      "outputs": [
        {
          "output_type": "display_data",
          "data": {
            "image/png": "[encoded data removed]",
            "text/plain": [
              "<Figure size 936x360 with 2 Axes>"
            ]
          },
          "metadata": {
            "tags": [],
            "needs_background": "light"
          }
        }
      ]
    },
    {
      "cell_type": "markdown",
      "metadata": {
        "id": "Rs9KIVPfUewS"
      },
      "source": [
        "#### **Comparando demais modelos**\n",
        "\n",
        "\n",
        "*   GradientBoosting\n",
        "*   RandomForestClassifier\n",
        "*   SVC\n",
        "*   NaivesBayes\n",
        "\n"
      ]
    },
    {
      "cell_type": "code",
      "metadata": {
        "id": "StqzMNe5wYxs",
        "colab": {
          "base_uri": "https://localhost:8080/",
          "height": 407
        },
        "outputId": "eba888d9-b76e-4419-bb11-895e0cf6b9d7"
      },
      "source": [
        "df_comp_results_test = pd.DataFrame(resultsNewCompTest)\n",
        "df_comp_results_test_sort = df_comp_results_test.sort_values(by='F1-Score', ascending=False)\n",
        "df_comp_results_test_sort"
      ],
      "execution_count": null,
      "outputs": [
        {
          "output_type": "execute_result",
          "data": {
            "text/html": [
              "<div>\n",
              "<style scoped>\n",
              "    .dataframe tbody tr th:only-of-type {\n",
              "        vertical-align: middle;\n",
              "    }\n",
              "\n",
              "    .dataframe tbody tr th {\n",
              "        vertical-align: top;\n",
              "    }\n",
              "\n",
              "    .dataframe thead th {\n",
              "        text-align: right;\n",
              "    }\n",
              "</style>\n",
              "<table border=\"1\" class=\"dataframe\">\n",
              "  <thead>\n",
              "    <tr style=\"text-align: right;\">\n",
              "      <th></th>\n",
              "      <th>model</th>\n",
              "      <th>Scaler</th>\n",
              "      <th>Acuracia</th>\n",
              "      <th>Precision</th>\n",
              "      <th>Recall</th>\n",
              "      <th>F1-Score</th>\n",
              "    </tr>\n",
              "  </thead>\n",
              "  <tbody>\n",
              "    <tr>\n",
              "      <th>5</th>\n",
              "      <td>GradientBoosting</td>\n",
              "      <td>minmax</td>\n",
              "      <td>0.964015</td>\n",
              "      <td>0.963816</td>\n",
              "      <td>0.964015</td>\n",
              "      <td>0.963841</td>\n",
              "    </tr>\n",
              "    <tr>\n",
              "      <th>9</th>\n",
              "      <td>GradientBoosting</td>\n",
              "      <td>std</td>\n",
              "      <td>0.964015</td>\n",
              "      <td>0.963816</td>\n",
              "      <td>0.964015</td>\n",
              "      <td>0.963841</td>\n",
              "    </tr>\n",
              "    <tr>\n",
              "      <th>1</th>\n",
              "      <td>GradientBoosting</td>\n",
              "      <td>no scaler</td>\n",
              "      <td>0.964015</td>\n",
              "      <td>0.963804</td>\n",
              "      <td>0.964015</td>\n",
              "      <td>0.963772</td>\n",
              "    </tr>\n",
              "    <tr>\n",
              "      <th>0</th>\n",
              "      <td>RandomForestClassifier</td>\n",
              "      <td>no scaler</td>\n",
              "      <td>0.958333</td>\n",
              "      <td>0.960464</td>\n",
              "      <td>0.958333</td>\n",
              "      <td>0.958737</td>\n",
              "    </tr>\n",
              "    <tr>\n",
              "      <th>4</th>\n",
              "      <td>RandomForestClassifier</td>\n",
              "      <td>minmax</td>\n",
              "      <td>0.954545</td>\n",
              "      <td>0.957328</td>\n",
              "      <td>0.954545</td>\n",
              "      <td>0.955136</td>\n",
              "    </tr>\n",
              "    <tr>\n",
              "      <th>8</th>\n",
              "      <td>RandomForestClassifier</td>\n",
              "      <td>std</td>\n",
              "      <td>0.952652</td>\n",
              "      <td>0.955090</td>\n",
              "      <td>0.952652</td>\n",
              "      <td>0.953216</td>\n",
              "    </tr>\n",
              "    <tr>\n",
              "      <th>10</th>\n",
              "      <td>SVC</td>\n",
              "      <td>std</td>\n",
              "      <td>0.886364</td>\n",
              "      <td>0.888529</td>\n",
              "      <td>0.886364</td>\n",
              "      <td>0.886954</td>\n",
              "    </tr>\n",
              "    <tr>\n",
              "      <th>6</th>\n",
              "      <td>SVC</td>\n",
              "      <td>minmax</td>\n",
              "      <td>0.842803</td>\n",
              "      <td>0.842274</td>\n",
              "      <td>0.842803</td>\n",
              "      <td>0.840783</td>\n",
              "    </tr>\n",
              "    <tr>\n",
              "      <th>3</th>\n",
              "      <td>NaivesBayes</td>\n",
              "      <td>no scaler</td>\n",
              "      <td>0.562500</td>\n",
              "      <td>0.602144</td>\n",
              "      <td>0.562500</td>\n",
              "      <td>0.547245</td>\n",
              "    </tr>\n",
              "    <tr>\n",
              "      <th>2</th>\n",
              "      <td>SVC</td>\n",
              "      <td>no scaler</td>\n",
              "      <td>0.534091</td>\n",
              "      <td>0.531106</td>\n",
              "      <td>0.534091</td>\n",
              "      <td>0.530061</td>\n",
              "    </tr>\n",
              "    <tr>\n",
              "      <th>7</th>\n",
              "      <td>NaivesBayes</td>\n",
              "      <td>minmax</td>\n",
              "      <td>0.541667</td>\n",
              "      <td>0.590415</td>\n",
              "      <td>0.541667</td>\n",
              "      <td>0.524362</td>\n",
              "    </tr>\n",
              "    <tr>\n",
              "      <th>11</th>\n",
              "      <td>NaivesBayes</td>\n",
              "      <td>std</td>\n",
              "      <td>0.535985</td>\n",
              "      <td>0.586555</td>\n",
              "      <td>0.535985</td>\n",
              "      <td>0.517502</td>\n",
              "    </tr>\n",
              "  </tbody>\n",
              "</table>\n",
              "</div>"
            ],
            "text/plain": [
              "                     model     Scaler  Acuracia  Precision    Recall  F1-Score\n",
              "5         GradientBoosting     minmax  0.964015   0.963816  0.964015  0.963841\n",
              "9         GradientBoosting        std  0.964015   0.963816  0.964015  0.963841\n",
              "1         GradientBoosting  no scaler  0.964015   0.963804  0.964015  0.963772\n",
              "0   RandomForestClassifier  no scaler  0.958333   0.960464  0.958333  0.958737\n",
              "4   RandomForestClassifier     minmax  0.954545   0.957328  0.954545  0.955136\n",
              "8   RandomForestClassifier        std  0.952652   0.955090  0.952652  0.953216\n",
              "10                     SVC        std  0.886364   0.888529  0.886364  0.886954\n",
              "6                      SVC     minmax  0.842803   0.842274  0.842803  0.840783\n",
              "3              NaivesBayes  no scaler  0.562500   0.602144  0.562500  0.547245\n",
              "2                      SVC  no scaler  0.534091   0.531106  0.534091  0.530061\n",
              "7              NaivesBayes     minmax  0.541667   0.590415  0.541667  0.524362\n",
              "11             NaivesBayes        std  0.535985   0.586555  0.535985  0.517502"
            ]
          },
          "metadata": {
            "tags": []
          },
          "execution_count": 215
        }
      ]
    },
    {
      "cell_type": "code",
      "metadata": {
        "id": "dxTWtWhQqy-n"
      },
      "source": [
        "GBValues = df_comp_results_test_sort[df_comp_results_test_sort['model']=='GradientBoosting']\n",
        "RFValues = df_comp_results_test_sort[df_comp_results_test_sort['model']=='RandomForestClassifier']\n",
        "SVCValues = df_comp_results_test_sort[df_comp_results_test_sort['model']=='SVC']\n",
        "NBValues = df_comp_results_test_sort[df_comp_results_test_sort['model']=='NaivesBayes']"
      ],
      "execution_count": null,
      "outputs": []
    },
    {
      "cell_type": "code",
      "metadata": {
        "colab": {
          "base_uri": "https://localhost:8080/",
          "height": 137
        },
        "id": "dSf5S9k3Ior9",
        "outputId": "e6cf3ce8-dedb-4d48-eed8-907a416fac0b"
      },
      "source": [
        "GBValues"
      ],
      "execution_count": null,
      "outputs": [
        {
          "output_type": "execute_result",
          "data": {
            "text/html": [
              "<div>\n",
              "<style scoped>\n",
              "    .dataframe tbody tr th:only-of-type {\n",
              "        vertical-align: middle;\n",
              "    }\n",
              "\n",
              "    .dataframe tbody tr th {\n",
              "        vertical-align: top;\n",
              "    }\n",
              "\n",
              "    .dataframe thead th {\n",
              "        text-align: right;\n",
              "    }\n",
              "</style>\n",
              "<table border=\"1\" class=\"dataframe\">\n",
              "  <thead>\n",
              "    <tr style=\"text-align: right;\">\n",
              "      <th></th>\n",
              "      <th>model</th>\n",
              "      <th>Scaler</th>\n",
              "      <th>Acuracia</th>\n",
              "      <th>Precision</th>\n",
              "      <th>Recall</th>\n",
              "      <th>F1-Score</th>\n",
              "    </tr>\n",
              "  </thead>\n",
              "  <tbody>\n",
              "    <tr>\n",
              "      <th>5</th>\n",
              "      <td>GradientBoosting</td>\n",
              "      <td>minmax</td>\n",
              "      <td>0.964015</td>\n",
              "      <td>0.963816</td>\n",
              "      <td>0.964015</td>\n",
              "      <td>0.963841</td>\n",
              "    </tr>\n",
              "    <tr>\n",
              "      <th>9</th>\n",
              "      <td>GradientBoosting</td>\n",
              "      <td>std</td>\n",
              "      <td>0.964015</td>\n",
              "      <td>0.963816</td>\n",
              "      <td>0.964015</td>\n",
              "      <td>0.963841</td>\n",
              "    </tr>\n",
              "    <tr>\n",
              "      <th>1</th>\n",
              "      <td>GradientBoosting</td>\n",
              "      <td>no scaler</td>\n",
              "      <td>0.964015</td>\n",
              "      <td>0.963804</td>\n",
              "      <td>0.964015</td>\n",
              "      <td>0.963772</td>\n",
              "    </tr>\n",
              "  </tbody>\n",
              "</table>\n",
              "</div>"
            ],
            "text/plain": [
              "              model     Scaler  Acuracia  Precision    Recall  F1-Score\n",
              "5  GradientBoosting     minmax  0.964015   0.963816  0.964015  0.963841\n",
              "9  GradientBoosting        std  0.964015   0.963816  0.964015  0.963841\n",
              "1  GradientBoosting  no scaler  0.964015   0.963804  0.964015  0.963772"
            ]
          },
          "metadata": {
            "tags": []
          },
          "execution_count": 217
        }
      ]
    },
    {
      "cell_type": "code",
      "metadata": {
        "colab": {
          "base_uri": "https://localhost:8080/",
          "height": 331
        },
        "id": "2EUddpSXIEIP",
        "outputId": "3d58b42f-62ce-4113-8a22-ed5d3d8743f4"
      },
      "source": [
        "GBValues.plot(x=\"Scaler\", y=[\"Acuracia\", \"Precision\", \"Recall\", \"F1-Score\"], kind=\"bar\", figsize=(12,4), title=\"GradientBoosting\");"
      ],
      "execution_count": null,
      "outputs": [
        {
          "output_type": "display_data",
          "data": {
            "image/png": "[encoded data removed]",
            "text/plain": [
              "<Figure size 864x288 with 1 Axes>"
            ]
          },
          "metadata": {
            "tags": [],
            "needs_background": "light"
          }
        }
      ]
    },
    {
      "cell_type": "code",
      "metadata": {
        "colab": {
          "base_uri": "https://localhost:8080/",
          "height": 137
        },
        "id": "FFTMhwLuKE9F",
        "outputId": "35643258-affe-446c-b7a3-e614d1e41d5d"
      },
      "source": [
        "RFValues"
      ],
      "execution_count": null,
      "outputs": [
        {
          "output_type": "execute_result",
          "data": {
            "text/html": [
              "<div>\n",
              "<style scoped>\n",
              "    .dataframe tbody tr th:only-of-type {\n",
              "        vertical-align: middle;\n",
              "    }\n",
              "\n",
              "    .dataframe tbody tr th {\n",
              "        vertical-align: top;\n",
              "    }\n",
              "\n",
              "    .dataframe thead th {\n",
              "        text-align: right;\n",
              "    }\n",
              "</style>\n",
              "<table border=\"1\" class=\"dataframe\">\n",
              "  <thead>\n",
              "    <tr style=\"text-align: right;\">\n",
              "      <th></th>\n",
              "      <th>model</th>\n",
              "      <th>Scaler</th>\n",
              "      <th>Acuracia</th>\n",
              "      <th>Precision</th>\n",
              "      <th>Recall</th>\n",
              "      <th>F1-Score</th>\n",
              "    </tr>\n",
              "  </thead>\n",
              "  <tbody>\n",
              "    <tr>\n",
              "      <th>0</th>\n",
              "      <td>RandomForestClassifier</td>\n",
              "      <td>no scaler</td>\n",
              "      <td>0.958333</td>\n",
              "      <td>0.960464</td>\n",
              "      <td>0.958333</td>\n",
              "      <td>0.958737</td>\n",
              "    </tr>\n",
              "    <tr>\n",
              "      <th>4</th>\n",
              "      <td>RandomForestClassifier</td>\n",
              "      <td>minmax</td>\n",
              "      <td>0.954545</td>\n",
              "      <td>0.957328</td>\n",
              "      <td>0.954545</td>\n",
              "      <td>0.955136</td>\n",
              "    </tr>\n",
              "    <tr>\n",
              "      <th>8</th>\n",
              "      <td>RandomForestClassifier</td>\n",
              "      <td>std</td>\n",
              "      <td>0.952652</td>\n",
              "      <td>0.955090</td>\n",
              "      <td>0.952652</td>\n",
              "      <td>0.953216</td>\n",
              "    </tr>\n",
              "  </tbody>\n",
              "</table>\n",
              "</div>"
            ],
            "text/plain": [
              "                    model     Scaler  Acuracia  Precision    Recall  F1-Score\n",
              "0  RandomForestClassifier  no scaler  0.958333   0.960464  0.958333  0.958737\n",
              "4  RandomForestClassifier     minmax  0.954545   0.957328  0.954545  0.955136\n",
              "8  RandomForestClassifier        std  0.952652   0.955090  0.952652  0.953216"
            ]
          },
          "metadata": {
            "tags": []
          },
          "execution_count": 219
        }
      ]
    },
    {
      "cell_type": "code",
      "metadata": {
        "colab": {
          "base_uri": "https://localhost:8080/",
          "height": 331
        },
        "id": "u7-JbTnCKGFi",
        "outputId": "3a7634fd-6701-4b90-c645-613faa2422f5"
      },
      "source": [
        "RFValues.plot(x=\"Scaler\", y=[\"Acuracia\", \"Precision\", \"Recall\", \"F1-Score\"], kind=\"bar\", figsize=(16,4), title=\"RandomForestClassifier\");"
      ],
      "execution_count": null,
      "outputs": [
        {
          "output_type": "display_data",
          "data": {
            "image/png": "[encoded data removed]",
            "text/plain": [
              "<Figure size 1152x288 with 1 Axes>"
            ]
          },
          "metadata": {
            "tags": [],
            "needs_background": "light"
          }
        }
      ]
    },
    {
      "cell_type": "code",
      "metadata": {
        "colab": {
          "base_uri": "https://localhost:8080/",
          "height": 137
        },
        "id": "-ujTS8z0KJof",
        "outputId": "49cef1d8-54e7-4a4f-a206-75a810945400"
      },
      "source": [
        "SVCValues"
      ],
      "execution_count": null,
      "outputs": [
        {
          "output_type": "execute_result",
          "data": {
            "text/html": [
              "<div>\n",
              "<style scoped>\n",
              "    .dataframe tbody tr th:only-of-type {\n",
              "        vertical-align: middle;\n",
              "    }\n",
              "\n",
              "    .dataframe tbody tr th {\n",
              "        vertical-align: top;\n",
              "    }\n",
              "\n",
              "    .dataframe thead th {\n",
              "        text-align: right;\n",
              "    }\n",
              "</style>\n",
              "<table border=\"1\" class=\"dataframe\">\n",
              "  <thead>\n",
              "    <tr style=\"text-align: right;\">\n",
              "      <th></th>\n",
              "      <th>model</th>\n",
              "      <th>Scaler</th>\n",
              "      <th>Acuracia</th>\n",
              "      <th>Precision</th>\n",
              "      <th>Recall</th>\n",
              "      <th>F1-Score</th>\n",
              "    </tr>\n",
              "  </thead>\n",
              "  <tbody>\n",
              "    <tr>\n",
              "      <th>10</th>\n",
              "      <td>SVC</td>\n",
              "      <td>std</td>\n",
              "      <td>0.886364</td>\n",
              "      <td>0.888529</td>\n",
              "      <td>0.886364</td>\n",
              "      <td>0.886954</td>\n",
              "    </tr>\n",
              "    <tr>\n",
              "      <th>6</th>\n",
              "      <td>SVC</td>\n",
              "      <td>minmax</td>\n",
              "      <td>0.842803</td>\n",
              "      <td>0.842274</td>\n",
              "      <td>0.842803</td>\n",
              "      <td>0.840783</td>\n",
              "    </tr>\n",
              "    <tr>\n",
              "      <th>2</th>\n",
              "      <td>SVC</td>\n",
              "      <td>no scaler</td>\n",
              "      <td>0.534091</td>\n",
              "      <td>0.531106</td>\n",
              "      <td>0.534091</td>\n",
              "      <td>0.530061</td>\n",
              "    </tr>\n",
              "  </tbody>\n",
              "</table>\n",
              "</div>"
            ],
            "text/plain": [
              "   model     Scaler  Acuracia  Precision    Recall  F1-Score\n",
              "10   SVC        std  0.886364   0.888529  0.886364  0.886954\n",
              "6    SVC     minmax  0.842803   0.842274  0.842803  0.840783\n",
              "2    SVC  no scaler  0.534091   0.531106  0.534091  0.530061"
            ]
          },
          "metadata": {
            "tags": []
          },
          "execution_count": 221
        }
      ]
    },
    {
      "cell_type": "code",
      "metadata": {
        "colab": {
          "base_uri": "https://localhost:8080/",
          "height": 331
        },
        "id": "Zed66iyuKKpY",
        "outputId": "b36da1bd-6785-4103-859c-022d1144ad27"
      },
      "source": [
        "SVCValues.plot(x=\"Scaler\", y=[\"Acuracia\", \"Precision\", \"Recall\", \"F1-Score\"], kind=\"bar\", figsize=(10,4), title = \"SVC\");"
      ],
      "execution_count": null,
      "outputs": [
        {
          "output_type": "display_data",
          "data": {
            "image/png": "[encoded data removed]",
            "text/plain": [
              "<Figure size 720x288 with 1 Axes>"
            ]
          },
          "metadata": {
            "tags": [],
            "needs_background": "light"
          }
        }
      ]
    },
    {
      "cell_type": "code",
      "metadata": {
        "colab": {
          "base_uri": "https://localhost:8080/",
          "height": 137
        },
        "id": "-xqui16AKNWf",
        "outputId": "34e18033-0742-4eb7-d46d-9814e2ba24d9"
      },
      "source": [
        "NBValues"
      ],
      "execution_count": null,
      "outputs": [
        {
          "output_type": "execute_result",
          "data": {
            "text/html": [
              "<div>\n",
              "<style scoped>\n",
              "    .dataframe tbody tr th:only-of-type {\n",
              "        vertical-align: middle;\n",
              "    }\n",
              "\n",
              "    .dataframe tbody tr th {\n",
              "        vertical-align: top;\n",
              "    }\n",
              "\n",
              "    .dataframe thead th {\n",
              "        text-align: right;\n",
              "    }\n",
              "</style>\n",
              "<table border=\"1\" class=\"dataframe\">\n",
              "  <thead>\n",
              "    <tr style=\"text-align: right;\">\n",
              "      <th></th>\n",
              "      <th>model</th>\n",
              "      <th>Scaler</th>\n",
              "      <th>Acuracia</th>\n",
              "      <th>Precision</th>\n",
              "      <th>Recall</th>\n",
              "      <th>F1-Score</th>\n",
              "    </tr>\n",
              "  </thead>\n",
              "  <tbody>\n",
              "    <tr>\n",
              "      <th>3</th>\n",
              "      <td>NaivesBayes</td>\n",
              "      <td>no scaler</td>\n",
              "      <td>0.562500</td>\n",
              "      <td>0.602144</td>\n",
              "      <td>0.562500</td>\n",
              "      <td>0.547245</td>\n",
              "    </tr>\n",
              "    <tr>\n",
              "      <th>7</th>\n",
              "      <td>NaivesBayes</td>\n",
              "      <td>minmax</td>\n",
              "      <td>0.541667</td>\n",
              "      <td>0.590415</td>\n",
              "      <td>0.541667</td>\n",
              "      <td>0.524362</td>\n",
              "    </tr>\n",
              "    <tr>\n",
              "      <th>11</th>\n",
              "      <td>NaivesBayes</td>\n",
              "      <td>std</td>\n",
              "      <td>0.535985</td>\n",
              "      <td>0.586555</td>\n",
              "      <td>0.535985</td>\n",
              "      <td>0.517502</td>\n",
              "    </tr>\n",
              "  </tbody>\n",
              "</table>\n",
              "</div>"
            ],
            "text/plain": [
              "          model     Scaler  Acuracia  Precision    Recall  F1-Score\n",
              "3   NaivesBayes  no scaler  0.562500   0.602144  0.562500  0.547245\n",
              "7   NaivesBayes     minmax  0.541667   0.590415  0.541667  0.524362\n",
              "11  NaivesBayes        std  0.535985   0.586555  0.535985  0.517502"
            ]
          },
          "metadata": {
            "tags": []
          },
          "execution_count": 223
        }
      ]
    },
    {
      "cell_type": "code",
      "metadata": {
        "colab": {
          "base_uri": "https://localhost:8080/",
          "height": 331
        },
        "id": "iJ0tLo-lKOOj",
        "outputId": "910fd42d-667b-4b99-e89a-adf79523f045"
      },
      "source": [
        "NBValues.plot(x=\"Scaler\", y=[\"Acuracia\", \"Precision\", \"Recall\", \"F1-Score\"], kind=\"bar\", figsize=(16,4), title=\"NaivesBayes\");"
      ],
      "execution_count": null,
      "outputs": [
        {
          "output_type": "display_data",
          "data": {
            "image/png": "[encoded data removed]",
            "text/plain": [
              "<Figure size 1152x288 with 1 Axes>"
            ]
          },
          "metadata": {
            "tags": [],
            "needs_background": "light"
          }
        }
      ]
    },
    {
      "cell_type": "code",
      "metadata": {
        "id": "zdvL-7l2xezq"
      },
      "source": [
        "resultsNewCompTest = []\n",
        "\n",
        "maxkNNacuracia = df_results_test[df_results_test['Acuracia'].index == df_results_test['Acuracia'].idxmax()]\n",
        "result = { 'model': maxkNNacuracia['model'].values[0], 'Scaler': maxkNNacuracia['scaler'].values[0], 'Acuracia': maxkNNacuracia['Acuracia'].values[0], 'Precision': maxkNNacuracia['Precision'].values[0], 'Recall': maxkNNacuracia['Recall'].values[0], 'F1-Score': maxkNNacuracia['F1-Score'].values[0]}\n",
        "resultsNewCompTest.append(result)\n",
        "\n",
        "maxGBacuracia = GBValues[GBValues['Acuracia'].index == GBValues['Acuracia'].idxmax()]\n",
        "result = { 'model': maxGBacuracia['model'].values[0], 'Scaler': maxGBacuracia['Scaler'].values[0], 'Acuracia': maxGBacuracia['Acuracia'].values[0], 'Precision': maxGBacuracia['Precision'].values[0], 'Recall': maxGBacuracia['Recall'].values[0], 'F1-Score': maxGBacuracia['F1-Score'].values[0]}\n",
        "resultsNewCompTest.append(result)\n",
        "\n",
        "maxRFacuracia = RFValues[RFValues['Acuracia'].index == RFValues['Acuracia'].idxmax()]\n",
        "result = { 'model': maxRFacuracia['model'].values[0], 'Scaler': maxRFacuracia['Scaler'].values[0], 'Acuracia': maxRFacuracia['Acuracia'].values[0], 'Precision': maxRFacuracia['Precision'].values[0], 'Recall': maxRFacuracia['Recall'].values[0], 'F1-Score': maxRFacuracia['F1-Score'].values[0]}\n",
        "resultsNewCompTest.append(result)\n",
        "\n",
        "maxSVCacuracia = SVCValues[SVCValues['Acuracia'].index == SVCValues['Acuracia'].idxmax()]\n",
        "result = { 'model': maxSVCacuracia['model'].values[0], 'Scaler': maxSVCacuracia['Scaler'].values[0], 'Acuracia': maxSVCacuracia['Acuracia'].values[0], 'Precision': maxSVCacuracia['Precision'].values[0], 'Recall': maxSVCacuracia['Recall'].values[0], 'F1-Score': maxSVCacuracia['F1-Score'].values[0]}\n",
        "resultsNewCompTest.append(result)\n",
        "\n",
        "maxNBacuracia = NBValues[NBValues['Acuracia'].index == NBValues['Acuracia'].idxmax()]\n",
        "result = { 'model': maxNBacuracia['model'].values[0], 'Scaler': maxNBacuracia['Scaler'].values[0], 'Acuracia': maxNBacuracia['Acuracia'].values[0], 'Precision': maxNBacuracia['Precision'].values[0], 'Recall': maxNBacuracia['Recall'].values[0], 'F1-Score': maxNBacuracia['F1-Score'].values[0]}\n",
        "resultsNewCompTest.append(result)\n",
        "\n",
        "bestAcuracy = pd.DataFrame(resultsNewCompTest).sort_values(by='F1-Score', ascending=False);"
      ],
      "execution_count": null,
      "outputs": []
    },
    {
      "cell_type": "code",
      "metadata": {
        "colab": {
          "base_uri": "https://localhost:8080/",
          "height": 197
        },
        "id": "PeVNI1OqK3k2",
        "outputId": "1c3c40cc-8b1f-4bc9-9e16-4ac0b035f420"
      },
      "source": [
        "bestAcuracy"
      ],
      "execution_count": null,
      "outputs": [
        {
          "output_type": "execute_result",
          "data": {
            "text/html": [
              "<div>\n",
              "<style scoped>\n",
              "    .dataframe tbody tr th:only-of-type {\n",
              "        vertical-align: middle;\n",
              "    }\n",
              "\n",
              "    .dataframe tbody tr th {\n",
              "        vertical-align: top;\n",
              "    }\n",
              "\n",
              "    .dataframe thead th {\n",
              "        text-align: right;\n",
              "    }\n",
              "</style>\n",
              "<table border=\"1\" class=\"dataframe\">\n",
              "  <thead>\n",
              "    <tr style=\"text-align: right;\">\n",
              "      <th></th>\n",
              "      <th>model</th>\n",
              "      <th>Scaler</th>\n",
              "      <th>Acuracia</th>\n",
              "      <th>Precision</th>\n",
              "      <th>Recall</th>\n",
              "      <th>F1-Score</th>\n",
              "    </tr>\n",
              "  </thead>\n",
              "  <tbody>\n",
              "    <tr>\n",
              "      <th>1</th>\n",
              "      <td>GradientBoosting</td>\n",
              "      <td>minmax</td>\n",
              "      <td>0.964015</td>\n",
              "      <td>0.963816</td>\n",
              "      <td>0.964015</td>\n",
              "      <td>0.963841</td>\n",
              "    </tr>\n",
              "    <tr>\n",
              "      <th>2</th>\n",
              "      <td>RandomForestClassifier</td>\n",
              "      <td>no scaler</td>\n",
              "      <td>0.958333</td>\n",
              "      <td>0.960464</td>\n",
              "      <td>0.958333</td>\n",
              "      <td>0.958737</td>\n",
              "    </tr>\n",
              "    <tr>\n",
              "      <th>0</th>\n",
              "      <td>kNN (k=1)</td>\n",
              "      <td>no scaler</td>\n",
              "      <td>0.912879</td>\n",
              "      <td>0.917861</td>\n",
              "      <td>0.912879</td>\n",
              "      <td>0.907466</td>\n",
              "    </tr>\n",
              "    <tr>\n",
              "      <th>3</th>\n",
              "      <td>SVC</td>\n",
              "      <td>std</td>\n",
              "      <td>0.886364</td>\n",
              "      <td>0.888529</td>\n",
              "      <td>0.886364</td>\n",
              "      <td>0.886954</td>\n",
              "    </tr>\n",
              "    <tr>\n",
              "      <th>4</th>\n",
              "      <td>NaivesBayes</td>\n",
              "      <td>no scaler</td>\n",
              "      <td>0.562500</td>\n",
              "      <td>0.602144</td>\n",
              "      <td>0.562500</td>\n",
              "      <td>0.547245</td>\n",
              "    </tr>\n",
              "  </tbody>\n",
              "</table>\n",
              "</div>"
            ],
            "text/plain": [
              "                    model     Scaler  Acuracia  Precision    Recall  F1-Score\n",
              "1        GradientBoosting     minmax  0.964015   0.963816  0.964015  0.963841\n",
              "2  RandomForestClassifier  no scaler  0.958333   0.960464  0.958333  0.958737\n",
              "0               kNN (k=1)  no scaler  0.912879   0.917861  0.912879  0.907466\n",
              "3                     SVC        std  0.886364   0.888529  0.886364  0.886954\n",
              "4             NaivesBayes  no scaler  0.562500   0.602144  0.562500  0.547245"
            ]
          },
          "metadata": {
            "tags": []
          },
          "execution_count": 226
        }
      ]
    },
    {
      "cell_type": "markdown",
      "metadata": {
        "id": "WSM9-0KcAd9R"
      },
      "source": [
        "**Comparando todos os modelos**"
      ]
    },
    {
      "cell_type": "code",
      "metadata": {
        "colab": {
          "base_uri": "https://localhost:8080/",
          "height": 620
        },
        "id": "ojjn7h41Kv_R",
        "outputId": "5605ee47-dd5e-466d-fb91-7bf5bbade501"
      },
      "source": [
        "bestAcuracy.plot(x=\"model\", y=[\"Acuracia\", \"Precision\", \"Recall\", \"F1-Score\"], kind=\"bar\", figsize=(12,8), title=\"Comparação entre Algoritmos\");"
      ],
      "execution_count": null,
      "outputs": [
        {
          "output_type": "display_data",
          "data": {
            "image/png": "[encoded data removed]",
            "text/plain": [
              "<Figure size 864x576 with 1 Axes>"
            ]
          },
          "metadata": {
            "tags": [],
            "needs_background": "light"
          }
        }
      ]
    }
  ]
}